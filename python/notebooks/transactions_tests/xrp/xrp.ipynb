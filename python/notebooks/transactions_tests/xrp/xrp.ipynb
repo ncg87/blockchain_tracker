{
 "cells": [
  {
   "cell_type": "code",
   "execution_count": 22,
   "metadata": {},
   "outputs": [],
   "source": [
    "import sys\n",
    "import os\n",
    "from pathlib import Path\n",
    "\n",
    "# Get absolute path to project root\n",
    "project_root = Path(os.getcwd()).resolve()\n",
    "if project_root.name != \"ncg87-blockchain_tracker\":\n",
    "    project_root = project_root.parent.parent.parent  # Adjust if running from a subdirectory\n",
    "\n",
    "sys.path.append(str(project_root))\n",
    "\n",
    "# Add to Python path if not already there\n",
    "if str(project_root) not in sys.path:\n",
    "    sys.path.insert(0, str(project_root))\n",
    "\n",
    "from config import Settings\n",
    "from chains import BitcoinQuerier, BitcoinProcessor, BitcoinPipeline\n",
    "import logging\n",
    "from database import MongoDatabase, MongoInsertOperations, MongoQueryOperations\n",
    "logging.basicConfig(level=logging.INFO,\n",
    "                   format='%(asctime)s - %(levelname)s - %(message)s')\n"
   ]
  },
  {
   "cell_type": "code",
   "execution_count": 25,
   "metadata": {},
   "outputs": [
    {
     "name": "stderr",
     "output_type": "stream",
     "text": [
      "2025-01-10 17:50:09,171 - INFO - Connected to MongoDB database: blockchain\n",
      "2025-01-10 17:50:09,175 - INFO - Indexes created for collection: Solana\n",
      "2025-01-10 17:50:09,177 - INFO - Indexes created for collection: Bitcoin\n",
      "2025-01-10 17:50:09,178 - INFO - Indexes created for collection: Ethereum\n",
      "2025-01-10 17:50:09,180 - INFO - Indexes created for collection: BNB\n",
      "2025-01-10 17:50:09,181 - INFO - Indexes created for collection: XRP\n",
      "2025-01-10 17:50:09,199 - INFO - Retrieved 171 most recent blocks from the XRP collection.\n"
     ]
    }
   ],
   "source": [
    "mongodb = MongoDatabase()\n",
    "mongodb_query_ops = MongoQueryOperations(mongodb)\n",
    "\n",
    "query = mongodb_query_ops.get_recent_blocks('XRP',1000)\n",
    "data = query[0]['raw_block_data']"
   ]
  },
  {
   "cell_type": "code",
   "execution_count": 26,
   "metadata": {},
   "outputs": [
    {
     "name": "stdout",
     "output_type": "stream",
     "text": [
      "171\n"
     ]
    }
   ],
   "source": [
    "print(len(query))"
   ]
  },
  {
   "cell_type": "code",
   "execution_count": 27,
   "metadata": {},
   "outputs": [
    {
     "data": {
      "text/plain": [
       "{'Account': 'rZhBT1ZS7G2dBRg8yWMAwhQQ7AA7Erixk',\n",
       " 'Amount': '1',\n",
       " 'DeliverMax': '1',\n",
       " 'Destination': 'rBA7oBScBPccjDcmGhkmCY82v2ZeLa2K2f',\n",
       " 'DestinationTag': 267667,\n",
       " 'Fee': '11',\n",
       " 'Flags': 0,\n",
       " 'LastLedgerSequence': 93336944,\n",
       " 'Sequence': 92368801,\n",
       " 'SigningPubKey': 'ED3DC15B93DFD42593FA29F1DE6D7822417B55D2C5F9E8F82F4F7025B9152F9B90',\n",
       " 'TransactionType': 'Payment',\n",
       " 'TxnSignature': '67757D26F00A02ABA26C861D15EFBD6CDCFFAE9CA7D629FCA853F66B2A3673FC054DADDA7AA07E415B555A08B1FC4968A6A66F349A441F9ED15ABB801C29DE08',\n",
       " 'hash': '02E1B066A7B69856D9073A03F3CCEC0B5C4943E5F3FFC73B7CF65807F30645D1',\n",
       " 'metaData': {'AffectedNodes': [{'ModifiedNode': {'FinalFields': {'Account': 'rZhBT1ZS7G2dBRg8yWMAwhQQ7AA7Erixk',\n",
       "      'Balance': '52806609',\n",
       "      'Flags': 0,\n",
       "      'OwnerCount': 0,\n",
       "      'Sequence': 92368802},\n",
       "     'LedgerEntryType': 'AccountRoot',\n",
       "     'LedgerIndex': '77EA0936BACCC2BD7E34213BDF5DB1EF7680B7173DF2D07B97A0DFC0C8743F39',\n",
       "     'PreviousFields': {'Balance': '52806621', 'Sequence': 92368801},\n",
       "     'PreviousTxnID': '1878C9A8C39086F98939EDDE537CDA07495B5DACF842B469D56477C6172EF4B9',\n",
       "     'PreviousTxnLgrSeq': 93336680}},\n",
       "   {'ModifiedNode': {'FinalFields': {'Account': 'rBA7oBScBPccjDcmGhkmCY82v2ZeLa2K2f',\n",
       "      'Balance': '1511509169232',\n",
       "      'Flags': 0,\n",
       "      'OwnerCount': 0,\n",
       "      'Sequence': 74220834},\n",
       "     'LedgerEntryType': 'AccountRoot',\n",
       "     'LedgerIndex': 'E46AD04FC6268AFC5E4B22519F0242F93A2C62D0349C6FE51ECA0E76527FAE2D',\n",
       "     'PreviousFields': {'Balance': '1511509169231'},\n",
       "     'PreviousTxnID': '6438F8D767D8F8EA8CDC6BF4DF87821C2ECA6916411A39A1A7458BB064A7817B',\n",
       "     'PreviousTxnLgrSeq': 93336845}}],\n",
       "  'TransactionIndex': 50,\n",
       "  'TransactionResult': 'tesSUCCESS',\n",
       "  'delivered_amount': '1'}}"
      ]
     },
     "execution_count": 27,
     "metadata": {},
     "output_type": "execute_result"
    }
   ],
   "source": [
    "data['transactions'][0]"
   ]
  },
  {
   "cell_type": "code",
   "execution_count": 32,
   "metadata": {},
   "outputs": [
    {
     "data": {
      "text/plain": [
       "{'Payment': 7108,\n",
       " 'OfferCreate': 4607,\n",
       " 'TrustSet': 1412,\n",
       " 'AMMWithdraw': 17,\n",
       " 'OfferCancel': 450,\n",
       " 'CheckCash': 1,\n",
       " 'OracleSet': 137,\n",
       " 'NFTokenCreateOffer': 51,\n",
       " 'AMMDeposit': 30,\n",
       " 'TicketCreate': 45,\n",
       " 'NFTokenCancelOffer': 7,\n",
       " 'NFTokenAcceptOffer': 19,\n",
       " 'AccountSet': 3,\n",
       " 'NFTokenMint': 14,\n",
       " 'SignerListSet': 1,\n",
       " 'AMMVote': 2}"
      ]
     },
     "execution_count": 32,
     "metadata": {},
     "output_type": "execute_result"
    }
   ],
   "source": [
    "transaction_examples = {}\n",
    "transaction_types = {}\n",
    "for data in query:\n",
    "    for tx in data['raw_block_data']['transactions']:\n",
    "        if tx['TransactionType'] not in transaction_types:\n",
    "            transaction_types[tx['TransactionType']] = 1\n",
    "            transaction_examples[tx['TransactionType']] = tx\n",
    "        else:\n",
    "            transaction_types[tx['TransactionType']] += 1\n",
    "\n",
    "transaction_types\n",
    "\n",
    "\n"
   ]
  },
  {
   "cell_type": "code",
   "execution_count": 37,
   "metadata": {},
   "outputs": [
    {
     "data": {
      "text/plain": [
       "{'Account': 'rZhBT1ZS7G2dBRg8yWMAwhQQ7AA7Erixk',\n",
       " 'Amount': '1',\n",
       " 'DeliverMax': '1',\n",
       " 'Destination': 'rBA7oBScBPccjDcmGhkmCY82v2ZeLa2K2f',\n",
       " 'DestinationTag': 267667,\n",
       " 'Fee': '11',\n",
       " 'Flags': 0,\n",
       " 'LastLedgerSequence': 93336944,\n",
       " 'Sequence': 92368801,\n",
       " 'SigningPubKey': 'ED3DC15B93DFD42593FA29F1DE6D7822417B55D2C5F9E8F82F4F7025B9152F9B90',\n",
       " 'TransactionType': 'Payment',\n",
       " 'TxnSignature': '67757D26F00A02ABA26C861D15EFBD6CDCFFAE9CA7D629FCA853F66B2A3673FC054DADDA7AA07E415B555A08B1FC4968A6A66F349A441F9ED15ABB801C29DE08',\n",
       " 'hash': '02E1B066A7B69856D9073A03F3CCEC0B5C4943E5F3FFC73B7CF65807F30645D1',\n",
       " 'metaData': {'AffectedNodes': [{'ModifiedNode': {'FinalFields': {'Account': 'rZhBT1ZS7G2dBRg8yWMAwhQQ7AA7Erixk',\n",
       "      'Balance': '52806609',\n",
       "      'Flags': 0,\n",
       "      'OwnerCount': 0,\n",
       "      'Sequence': 92368802},\n",
       "     'LedgerEntryType': 'AccountRoot',\n",
       "     'LedgerIndex': '77EA0936BACCC2BD7E34213BDF5DB1EF7680B7173DF2D07B97A0DFC0C8743F39',\n",
       "     'PreviousFields': {'Balance': '52806621', 'Sequence': 92368801},\n",
       "     'PreviousTxnID': '1878C9A8C39086F98939EDDE537CDA07495B5DACF842B469D56477C6172EF4B9',\n",
       "     'PreviousTxnLgrSeq': 93336680}},\n",
       "   {'ModifiedNode': {'FinalFields': {'Account': 'rBA7oBScBPccjDcmGhkmCY82v2ZeLa2K2f',\n",
       "      'Balance': '1511509169232',\n",
       "      'Flags': 0,\n",
       "      'OwnerCount': 0,\n",
       "      'Sequence': 74220834},\n",
       "     'LedgerEntryType': 'AccountRoot',\n",
       "     'LedgerIndex': 'E46AD04FC6268AFC5E4B22519F0242F93A2C62D0349C6FE51ECA0E76527FAE2D',\n",
       "     'PreviousFields': {'Balance': '1511509169231'},\n",
       "     'PreviousTxnID': '6438F8D767D8F8EA8CDC6BF4DF87821C2ECA6916411A39A1A7458BB064A7817B',\n",
       "     'PreviousTxnLgrSeq': 93336845}}],\n",
       "  'TransactionIndex': 50,\n",
       "  'TransactionResult': 'tesSUCCESS',\n",
       "  'delivered_amount': '1'}}"
      ]
     },
     "execution_count": 37,
     "metadata": {},
     "output_type": "execute_result"
    }
   ],
   "source": [
    "transaction_examples['Payment']\n",
    "\n"
   ]
  },
  {
   "cell_type": "code",
   "execution_count": null,
   "metadata": {},
   "outputs": [],
   "source": []
  }
 ],
 "metadata": {
  "kernelspec": {
   "display_name": "blockchain",
   "language": "python",
   "name": "python3"
  },
  "language_info": {
   "codemirror_mode": {
    "name": "ipython",
    "version": 3
   },
   "file_extension": ".py",
   "mimetype": "text/x-python",
   "name": "python",
   "nbconvert_exporter": "python",
   "pygments_lexer": "ipython3",
   "version": "3.11.11"
  }
 },
 "nbformat": 4,
 "nbformat_minor": 2
}
