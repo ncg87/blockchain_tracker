{
 "cells": [
  {
   "cell_type": "code",
   "execution_count": 5,
   "metadata": {},
   "outputs": [
    {
     "data": {
      "text/plain": [
       "[(88,\n",
       "  'Solana',\n",
       "  291049389,\n",
       "  '3AVSqNQNubxZDPUQFYjuaAny186c6ayxkYhZDjvnEsPT',\n",
       "  'A9upzHsy4b4N45vMvSQNv9o4Hwb9Z55sBFCJrtqohWx',\n",
       "  '2025-01-08 20:21:22',\n",
       "  '{\"parent_slot\": 312734220}'),\n",
       " (87,\n",
       "  'Solana',\n",
       "  291049388,\n",
       "  'A9upzHsy4b4N45vMvSQNv9o4Hwb9Z55sBFCJrtqohWx',\n",
       "  '9dPzCTcis1brfw8zpUmuhe2KxMhHGAWuq2TyPewwSYUu',\n",
       "  '2025-01-08 20:21:22',\n",
       "  '{\"parent_slot\": 312734219}'),\n",
       " (86,\n",
       "  'Solana',\n",
       "  291049387,\n",
       "  '9dPzCTcis1brfw8zpUmuhe2KxMhHGAWuq2TyPewwSYUu',\n",
       "  'AnvGtoVVdRAZfDrhWRVbR1pzga1QCt4hhg41PxXbqDjE',\n",
       "  '2025-01-08 20:21:21',\n",
       "  '{\"parent_slot\": 312734218}'),\n",
       " (85,\n",
       "  'Solana',\n",
       "  291049386,\n",
       "  'AnvGtoVVdRAZfDrhWRVbR1pzga1QCt4hhg41PxXbqDjE',\n",
       "  'FtSxvoHH8SC5ubnZV3GidSAw91aZGFNh9T4yvyrG4Sup',\n",
       "  '2025-01-08 20:21:21',\n",
       "  '{\"parent_slot\": 312734217}'),\n",
       " (84,\n",
       "  'Solana',\n",
       "  291049385,\n",
       "  'FtSxvoHH8SC5ubnZV3GidSAw91aZGFNh9T4yvyrG4Sup',\n",
       "  '6CfBKW6rELdQ9ooUwU8hp5ZiN4m2cU1oVzNRc5ytQhnK',\n",
       "  '2025-01-08 20:21:20',\n",
       "  '{\"parent_slot\": 312734216}'),\n",
       " (83,\n",
       "  'Solana',\n",
       "  291049384,\n",
       "  '6CfBKW6rELdQ9ooUwU8hp5ZiN4m2cU1oVzNRc5ytQhnK',\n",
       "  '5ij4eFFQaqCEk6Psb2ZHoKjSKxJPwjT27AQ9WmoCbirn',\n",
       "  '2025-01-08 20:21:20',\n",
       "  '{\"parent_slot\": 312734215}'),\n",
       " (82,\n",
       "  'Solana',\n",
       "  291049383,\n",
       "  '5ij4eFFQaqCEk6Psb2ZHoKjSKxJPwjT27AQ9WmoCbirn',\n",
       "  '3Hgcpzs82zZY7xXGi5hsN6E5NWvHJGEXM1a4aJJwzSPb',\n",
       "  '2025-01-08 20:21:20',\n",
       "  '{\"parent_slot\": 312734214}'),\n",
       " (81,\n",
       "  'Solana',\n",
       "  291049382,\n",
       "  '3Hgcpzs82zZY7xXGi5hsN6E5NWvHJGEXM1a4aJJwzSPb',\n",
       "  'YQKidSj5i97XQvjibLDwoX4Er1VkNSWetzuYcnBT6qC',\n",
       "  '2025-01-08 20:21:19',\n",
       "  '{\"parent_slot\": 312734213}'),\n",
       " (80,\n",
       "  'Solana',\n",
       "  291049381,\n",
       "  'YQKidSj5i97XQvjibLDwoX4Er1VkNSWetzuYcnBT6qC',\n",
       "  'W8keC9FW2bUMobZ8ekhDidFDdRF8Adccgk1VxhjWgvt',\n",
       "  '2025-01-08 20:21:19',\n",
       "  '{\"parent_slot\": 312734212}'),\n",
       " (79,\n",
       "  'Solana',\n",
       "  291049380,\n",
       "  'W8keC9FW2bUMobZ8ekhDidFDdRF8Adccgk1VxhjWgvt',\n",
       "  'DX8S2JJhLMtoFgn2LtE3GupQQ7XgdfTuJVNDgjxDnBrm',\n",
       "  '2025-01-08 20:21:18',\n",
       "  '{\"parent_slot\": 312734211}')]"
      ]
     },
     "execution_count": 5,
     "metadata": {},
     "output_type": "execute_result"
    }
   ],
   "source": [
    "import sys\n",
    "import os\n",
    "from pathlib import Path\n",
    "\n",
    "# Get absolute path to project root\n",
    "project_root = Path(os.getcwd()).resolve()\n",
    "if project_root.name != \"ncg87-blockchain_tracker\":\n",
    "    project_root = project_root.parent  # Adjust if running from a subdirectory\n",
    "\n",
    "sys.path.append(str(project_root))\n",
    "\n",
    "# Add to Python path if not already there\n",
    "if str(project_root) not in sys.path:\n",
    "    sys.path.insert(0, str(project_root))\n",
    "    \n",
    "from database import MongoDatabase, MongoInsertOperations, MongoQueryOperations\n",
    "from database import SQLDatabase, SQLInsertOperations, SQLQueryOperations\n",
    "\n",
    "db = SQLDatabase()\n",
    "insert_ops = SQLInsertOperations(db)\n",
    "query_ops = SQLQueryOperations(db)\n",
    "\n",
    "insert_ops.insert_block({'network': 'eth', 'block_number': 1000000, 'block_hash': '0x1234567890', 'parent_hash': '0x0987654321', 'timestamp': '2024-01-01 12:00:00', 'block_data': '{\"some\": \"data\"}'})\n",
    "\n",
    "query_ops.query_blocks()"
   ]
  },
  {
   "cell_type": "code",
   "execution_count": 9,
   "metadata": {},
   "outputs": [
    {
     "data": {
      "text/plain": [
       "[(76,\n",
       "  'Bitcoin',\n",
       "  878314,\n",
       "  '000000000000000000006c648568a882db09cf560b011ec550bb503c48253771',\n",
       "  '000000000000000000013f533f51ff2934b5636138924fd4c8b3b2166f59b183',\n",
       "  '2025-01-08 05:58:19',\n",
       "  '{\"version\": 583663616, \"merkle_root\": \"d4b8055c104c8c813a919804ff9d64ed5d9c6e1ba35d4dff86ca72e785fe65a0\", \"chainwork\": \"0000000000000000000000000000000000000000a5e559e040b2934d5f5b052c\", \"bits\": \"1702905c\", \"weight\": 3993586, \"size\": 1776349, \"num_tx\": 4255}'),\n",
       " (21,\n",
       "  'Bitcoin',\n",
       "  878189,\n",
       "  '000000000000000000011159af1c81013ae6c6d7d4accf08682f2c9db1db3c23',\n",
       "  '000000000000000000002641d892b1f5b4b4446a1db13bbe2a89faec36ba9768',\n",
       "  '2025-01-07 07:02:22',\n",
       "  '{\"version\": 618651648, \"merkle_root\": \"833cf7cc7f4dd1a5141bc11c831dd95516e606df309216c96e8f3b7635e373cd\", \"chainwork\": \"0000000000000000000000000000000000000000a5b498e8956204104a437158\", \"bits\": \"1702905c\", \"weight\": 3993224, \"size\": 1449299, \"num_tx\": 1649}'),\n",
       " (6,\n",
       "  'Bitcoin',\n",
       "  878183,\n",
       "  '000000000000000000001f0290610d2125ff6351a6c6558d5dba90cca6a4e456',\n",
       "  '000000000000000000009abb0666889a6ae479f1cb8b94853e83a1ada9dc8e7c',\n",
       "  '2025-01-07 06:28:20',\n",
       "  '{\"version\": 783392768, \"merkle_root\": \"e798d6f6731023ee922445069060e0bf31e7f17d2757435f932403b3f174e8b6\", \"chainwork\": \"0000000000000000000000000000000000000000a5b241d2749571ec97133500\", \"bits\": \"1702905c\", \"weight\": 3993805, \"size\": 1571839}')]"
      ]
     },
     "execution_count": 9,
     "metadata": {},
     "output_type": "execute_result"
    }
   ],
   "source": [
    "query_ops.query_by_network('Bitcoin')\n",
    "\n"
   ]
  },
  {
   "cell_type": "code",
   "execution_count": null,
   "metadata": {},
   "outputs": [],
   "source": []
  },
  {
   "cell_type": "code",
   "execution_count": null,
   "metadata": {},
   "outputs": [],
   "source": []
  }
 ],
 "metadata": {
  "kernelspec": {
   "display_name": "blockchain",
   "language": "python",
   "name": "python3"
  },
  "language_info": {
   "codemirror_mode": {
    "name": "ipython",
    "version": 3
   },
   "file_extension": ".py",
   "mimetype": "text/x-python",
   "name": "python",
   "nbconvert_exporter": "python",
   "pygments_lexer": "ipython3",
   "version": "3.11.11"
  }
 },
 "nbformat": 4,
 "nbformat_minor": 2
}
