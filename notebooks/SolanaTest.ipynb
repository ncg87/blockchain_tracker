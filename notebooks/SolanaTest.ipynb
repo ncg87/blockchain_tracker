{
 "cells": [
  {
   "cell_type": "code",
   "execution_count": 1,
   "metadata": {},
   "outputs": [],
   "source": [
    "\n",
    "import sys\n",
    "import os\n",
    "from pathlib import Path\n",
    "\n",
    "# Get absolute path to project root\n",
    "project_root = Path(os.getcwd()).resolve()\n",
    "if project_root.name != \"ncg87-blockchain_tracker\":\n",
    "    project_root = project_root.parent  # Adjust if running from a subdirectory\n",
    "\n",
    "sys.path.append(str(project_root))\n",
    "\n",
    "# Add to Python path if not already there\n",
    "if str(project_root) not in sys.path:\n",
    "    sys.path.insert(0, str(project_root))\n",
    "\n",
    "from config import Settings\n",
    "from chains import SolanaQuerier, SolanaProcessor, SolanaPipeline\n",
    "from database import Database\n",
    "import logging\n",
    "logging.basicConfig(level=logging.INFO,\n",
    "                   format='%(asctime)s - %(levelname)s - %(message)s')\n"
   ]
  },
  {
   "cell_type": "code",
   "execution_count": 2,
   "metadata": {},
   "outputs": [
    {
     "name": "stderr",
     "output_type": "stream",
     "text": [
      "2025-01-08 15:21:29,032 - INFO - Initialized Solana querier\n",
      "2025-01-08 15:21:29,412 - INFO - Applying schema from C:\\Users\\Nicko\\vscodeprojects\\blockchain_tracker\\database\\schema.sql\n",
      "2025-01-08 15:21:29,414 - INFO - Schema applied successfully.\n",
      "2025-01-08 15:21:29,414 - INFO - Initialized Solana processor\n",
      "2025-01-08 15:21:29,415 - INFO - Starting Solana pipeline...\n",
      "2025-01-08 15:21:29,415 - INFO - Initialized Solana querier\n",
      "2025-01-08 15:21:29,684 - INFO - Initialized Solana processor\n",
      "2025-01-08 15:21:29,685 - INFO - Fetching latest block slot.\n",
      "2025-01-08 15:21:29,904 - INFO - HTTP Request: POST https://dimensional-omniscient-needle.solana-mainnet.quiknode.pro/b673c5969121edb8f0170e0025333ad090bc12b3 \"HTTP/1.1 200 OK\"\n",
      "2025-01-08 15:21:29,905 - INFO - Fetching block for slot: 312734205\n",
      "2025-01-08 15:21:30,284 - INFO - HTTP Request: POST https://dimensional-omniscient-needle.solana-mainnet.quiknode.pro/b673c5969121edb8f0170e0025333ad090bc12b3 \"HTTP/1.1 200 OK\"\n"
     ]
    }
   ],
   "source": [
    "\n",
    "querier = SolanaQuerier()\n",
    "database = Database()\n",
    "processor = SolanaProcessor(database, querier)\n",
    "pipeline = SolanaPipeline(database)\n",
    "block = await querier.get_block()\n"
   ]
  },
  {
   "cell_type": "code",
   "execution_count": 3,
   "metadata": {},
   "outputs": [
    {
     "name": "stderr",
     "output_type": "stream",
     "text": [
      "2025-01-08 15:21:30,969 - INFO - Starting Solana pipeline in real-time mode...\n",
      "2025-01-08 15:21:30,970 - INFO - Starting block streaming...\n",
      "2025-01-08 15:21:31,527 - INFO - Connected to Solana WebSocket.\n",
      "2025-01-08 15:21:31,528 - INFO - Subscribed to slot updates.\n",
      "2025-01-08 15:21:32,210 - INFO - Fetching block for slot: 312734210\n",
      "2025-01-08 15:21:32,669 - INFO - HTTP Request: POST https://dimensional-omniscient-needle.solana-mainnet.quiknode.pro/b673c5969121edb8f0170e0025333ad090bc12b3 \"HTTP/1.1 200 OK\"\n",
      "2025-01-08 15:21:33,335 - INFO - Received block for slot: 291049378\n",
      "2025-01-08 15:21:33,335 - INFO - Fetching block for slot: 312734211\n"
     ]
    },
    {
     "name": "stdout",
     "output_type": "stream",
     "text": [
      "dict_keys(['previousBlockhash', 'blockhash', 'parentSlot', 'transactions', 'rewards', 'blockTime', 'blockHeight'])\n"
     ]
    },
    {
     "name": "stderr",
     "output_type": "stream",
     "text": [
      "2025-01-08 15:21:33,679 - INFO - HTTP Request: POST https://dimensional-omniscient-needle.solana-mainnet.quiknode.pro/b673c5969121edb8f0170e0025333ad090bc12b3 \"HTTP/1.1 200 OK\"\n",
      "2025-01-08 15:21:34,034 - INFO - Received block for slot: 291049379\n",
      "2025-01-08 15:21:34,035 - INFO - Processing Solana block 291049378\n",
      "2025-01-08 15:21:34,036 - INFO - Inserting block 291049378 into database\n",
      "2025-01-08 15:21:34,052 - INFO - Block 291049378 inserted successfully\n",
      "2025-01-08 15:21:34,059 - INFO - Processing Solana block 291049379\n",
      "2025-01-08 15:21:34,060 - INFO - Inserting block 291049379 into database\n",
      "2025-01-08 15:21:34,063 - INFO - Block 291049379 inserted successfully\n",
      "2025-01-08 15:21:34,064 - INFO - Fetching block for slot: 312734212\n"
     ]
    },
    {
     "name": "stdout",
     "output_type": "stream",
     "text": [
      "dict_keys(['previousBlockhash', 'blockhash', 'parentSlot', 'transactions', 'rewards', 'blockTime', 'blockHeight'])\n"
     ]
    },
    {
     "name": "stderr",
     "output_type": "stream",
     "text": [
      "2025-01-08 15:21:34,449 - INFO - HTTP Request: POST https://dimensional-omniscient-needle.solana-mainnet.quiknode.pro/b673c5969121edb8f0170e0025333ad090bc12b3 \"HTTP/1.1 200 OK\"\n",
      "2025-01-08 15:21:34,759 - INFO - Received block for slot: 291049380\n",
      "2025-01-08 15:21:34,760 - INFO - Fetching block for slot: 312734213\n"
     ]
    },
    {
     "name": "stdout",
     "output_type": "stream",
     "text": [
      "dict_keys(['previousBlockhash', 'blockhash', 'parentSlot', 'transactions', 'rewards', 'blockTime', 'blockHeight'])\n"
     ]
    },
    {
     "name": "stderr",
     "output_type": "stream",
     "text": [
      "2025-01-08 15:21:35,089 - INFO - HTTP Request: POST https://dimensional-omniscient-needle.solana-mainnet.quiknode.pro/b673c5969121edb8f0170e0025333ad090bc12b3 \"HTTP/1.1 200 OK\"\n",
      "2025-01-08 15:21:35,470 - INFO - Received block for slot: 291049381\n",
      "2025-01-08 15:21:35,471 - INFO - Fetching block for slot: 312734214\n"
     ]
    },
    {
     "name": "stdout",
     "output_type": "stream",
     "text": [
      "dict_keys(['previousBlockhash', 'blockhash', 'parentSlot', 'transactions', 'rewards', 'blockTime', 'blockHeight'])\n"
     ]
    },
    {
     "name": "stderr",
     "output_type": "stream",
     "text": [
      "2025-01-08 15:21:35,838 - INFO - HTTP Request: POST https://dimensional-omniscient-needle.solana-mainnet.quiknode.pro/b673c5969121edb8f0170e0025333ad090bc12b3 \"HTTP/1.1 200 OK\"\n",
      "2025-01-08 15:21:36,208 - INFO - Received block for slot: 291049382\n",
      "2025-01-08 15:21:36,210 - INFO - Fetching block for slot: 312734215\n"
     ]
    },
    {
     "name": "stdout",
     "output_type": "stream",
     "text": [
      "dict_keys(['previousBlockhash', 'blockhash', 'parentSlot', 'transactions', 'rewards', 'blockTime', 'blockHeight'])\n"
     ]
    },
    {
     "name": "stderr",
     "output_type": "stream",
     "text": [
      "2025-01-08 15:21:36,583 - INFO - HTTP Request: POST https://dimensional-omniscient-needle.solana-mainnet.quiknode.pro/b673c5969121edb8f0170e0025333ad090bc12b3 \"HTTP/1.1 200 OK\"\n",
      "2025-01-08 15:21:36,867 - INFO - Received block for slot: 291049383\n",
      "2025-01-08 15:21:36,868 - INFO - Processing Solana block 291049380\n",
      "2025-01-08 15:21:36,869 - INFO - Inserting block 291049380 into database\n",
      "2025-01-08 15:21:36,882 - INFO - Block 291049380 inserted successfully\n",
      "2025-01-08 15:21:36,893 - INFO - Processing Solana block 291049381\n",
      "2025-01-08 15:21:36,894 - INFO - Inserting block 291049381 into database\n",
      "2025-01-08 15:21:36,898 - INFO - Block 291049381 inserted successfully\n",
      "2025-01-08 15:21:36,906 - INFO - Processing Solana block 291049382\n",
      "2025-01-08 15:21:36,907 - INFO - Inserting block 291049382 into database\n",
      "2025-01-08 15:21:36,911 - INFO - Block 291049382 inserted successfully\n",
      "2025-01-08 15:21:36,922 - INFO - Processing Solana block 291049383\n",
      "2025-01-08 15:21:36,923 - INFO - Inserting block 291049383 into database\n",
      "2025-01-08 15:21:36,928 - INFO - Block 291049383 inserted successfully\n",
      "2025-01-08 15:21:36,929 - INFO - Fetching block for slot: 312734216\n"
     ]
    },
    {
     "name": "stdout",
     "output_type": "stream",
     "text": [
      "dict_keys(['previousBlockhash', 'blockhash', 'parentSlot', 'transactions', 'rewards', 'blockTime', 'blockHeight'])\n"
     ]
    },
    {
     "name": "stderr",
     "output_type": "stream",
     "text": [
      "2025-01-08 15:21:37,374 - INFO - HTTP Request: POST https://dimensional-omniscient-needle.solana-mainnet.quiknode.pro/b673c5969121edb8f0170e0025333ad090bc12b3 \"HTTP/1.1 200 OK\"\n",
      "2025-01-08 15:21:37,785 - INFO - Received block for slot: 291049384\n",
      "2025-01-08 15:21:37,786 - INFO - Fetching block for slot: 312734217\n"
     ]
    },
    {
     "name": "stdout",
     "output_type": "stream",
     "text": [
      "dict_keys(['previousBlockhash', 'blockhash', 'parentSlot', 'transactions', 'rewards', 'blockTime', 'blockHeight'])\n"
     ]
    },
    {
     "name": "stderr",
     "output_type": "stream",
     "text": [
      "2025-01-08 15:21:38,145 - INFO - HTTP Request: POST https://dimensional-omniscient-needle.solana-mainnet.quiknode.pro/b673c5969121edb8f0170e0025333ad090bc12b3 \"HTTP/1.1 200 OK\"\n",
      "2025-01-08 15:21:38,570 - INFO - Received block for slot: 291049385\n",
      "2025-01-08 15:21:38,571 - INFO - Fetching block for slot: 312734218\n"
     ]
    },
    {
     "name": "stdout",
     "output_type": "stream",
     "text": [
      "dict_keys(['previousBlockhash', 'blockhash', 'parentSlot', 'transactions', 'rewards', 'blockTime', 'blockHeight'])\n"
     ]
    },
    {
     "name": "stderr",
     "output_type": "stream",
     "text": [
      "2025-01-08 15:21:38,999 - INFO - HTTP Request: POST https://dimensional-omniscient-needle.solana-mainnet.quiknode.pro/b673c5969121edb8f0170e0025333ad090bc12b3 \"HTTP/1.1 200 OK\"\n",
      "2025-01-08 15:21:39,328 - INFO - Received block for slot: 291049386\n",
      "2025-01-08 15:21:39,329 - INFO - Fetching block for slot: 312734219\n"
     ]
    },
    {
     "name": "stdout",
     "output_type": "stream",
     "text": [
      "dict_keys(['previousBlockhash', 'blockhash', 'parentSlot', 'transactions', 'rewards', 'blockTime', 'blockHeight'])\n"
     ]
    },
    {
     "name": "stderr",
     "output_type": "stream",
     "text": [
      "2025-01-08 15:21:39,629 - INFO - HTTP Request: POST https://dimensional-omniscient-needle.solana-mainnet.quiknode.pro/b673c5969121edb8f0170e0025333ad090bc12b3 \"HTTP/1.1 200 OK\"\n",
      "2025-01-08 15:21:39,980 - INFO - Received block for slot: 291049387\n",
      "2025-01-08 15:21:39,981 - INFO - Fetching block for slot: 312734220\n"
     ]
    },
    {
     "name": "stdout",
     "output_type": "stream",
     "text": [
      "dict_keys(['previousBlockhash', 'blockhash', 'parentSlot', 'transactions', 'rewards', 'blockTime', 'blockHeight'])\n"
     ]
    },
    {
     "name": "stderr",
     "output_type": "stream",
     "text": [
      "2025-01-08 15:21:40,226 - INFO - HTTP Request: POST https://dimensional-omniscient-needle.solana-mainnet.quiknode.pro/b673c5969121edb8f0170e0025333ad090bc12b3 \"HTTP/1.1 200 OK\"\n",
      "2025-01-08 15:21:40,450 - INFO - Received block for slot: 291049388\n",
      "2025-01-08 15:21:40,451 - INFO - Fetching block for slot: 312734221\n"
     ]
    },
    {
     "name": "stdout",
     "output_type": "stream",
     "text": [
      "dict_keys(['previousBlockhash', 'blockhash', 'parentSlot', 'transactions', 'rewards', 'blockTime', 'blockHeight'])\n"
     ]
    },
    {
     "name": "stderr",
     "output_type": "stream",
     "text": [
      "2025-01-08 15:21:40,737 - INFO - HTTP Request: POST https://dimensional-omniscient-needle.solana-mainnet.quiknode.pro/b673c5969121edb8f0170e0025333ad090bc12b3 \"HTTP/1.1 200 OK\"\n",
      "2025-01-08 15:21:41,129 - INFO - Received block for slot: 291049389\n",
      "2025-01-08 15:21:41,130 - INFO - Stream duration expired.\n",
      "2025-01-08 15:21:41,130 - INFO - Processing Solana block 291049384\n",
      "2025-01-08 15:21:41,131 - INFO - Inserting block 291049384 into database\n",
      "2025-01-08 15:21:41,146 - INFO - Block 291049384 inserted successfully\n",
      "2025-01-08 15:21:41,154 - INFO - Processing Solana block 291049385\n",
      "2025-01-08 15:21:41,155 - INFO - Inserting block 291049385 into database\n",
      "2025-01-08 15:21:41,159 - INFO - Block 291049385 inserted successfully\n",
      "2025-01-08 15:21:41,169 - INFO - Processing Solana block 291049386\n",
      "2025-01-08 15:21:41,169 - INFO - Inserting block 291049386 into database\n",
      "2025-01-08 15:21:41,175 - INFO - Block 291049386 inserted successfully\n",
      "2025-01-08 15:21:41,192 - INFO - Processing Solana block 291049387\n",
      "2025-01-08 15:21:41,192 - INFO - Inserting block 291049387 into database\n",
      "2025-01-08 15:21:41,197 - INFO - Block 291049387 inserted successfully\n",
      "2025-01-08 15:21:41,205 - INFO - Processing Solana block 291049388\n",
      "2025-01-08 15:21:41,206 - INFO - Inserting block 291049388 into database\n",
      "2025-01-08 15:21:41,211 - INFO - Block 291049388 inserted successfully\n",
      "2025-01-08 15:21:41,219 - INFO - Processing Solana block 291049389\n",
      "2025-01-08 15:21:41,220 - INFO - Inserting block 291049389 into database\n",
      "2025-01-08 15:21:41,225 - INFO - Block 291049389 inserted successfully\n",
      "2025-01-08 15:21:41,226 - INFO - Completed Solana pipeline in real-time mode.\n"
     ]
    },
    {
     "name": "stdout",
     "output_type": "stream",
     "text": [
      "dict_keys(['previousBlockhash', 'blockhash', 'parentSlot', 'transactions', 'rewards', 'blockTime', 'blockHeight'])\n"
     ]
    }
   ],
   "source": [
    "await pipeline.run(duration=10)"
   ]
  },
  {
   "cell_type": "code",
   "execution_count": 2,
   "metadata": {},
   "outputs": [
    {
     "ename": "NameError",
     "evalue": "name 'processor' is not defined",
     "output_type": "error",
     "traceback": [
      "\u001b[1;31m---------------------------------------------------------------------------\u001b[0m",
      "\u001b[1;31mNameError\u001b[0m                                 Traceback (most recent call last)",
      "Cell \u001b[1;32mIn[2], line 1\u001b[0m\n\u001b[1;32m----> 1\u001b[0m \u001b[43mprocessor\u001b[49m\u001b[38;5;241m.\u001b[39mprocess_block(block)\n",
      "\u001b[1;31mNameError\u001b[0m: name 'processor' is not defined"
     ]
    }
   ],
   "source": [
    "processor.process_block(block)\n"
   ]
  },
  {
   "cell_type": "code",
   "execution_count": 11,
   "metadata": {},
   "outputs": [
    {
     "data": {
      "text/plain": [
       "0"
      ]
     },
     "execution_count": 11,
     "metadata": {},
     "output_type": "execute_result"
    }
   ],
   "source": [
    "block['id']"
   ]
  },
  {
   "cell_type": "code",
   "execution_count": 4,
   "metadata": {},
   "outputs": [
    {
     "data": {
      "text/plain": [
       "dict_keys(['jsonrpc', 'result', 'id'])"
      ]
     },
     "execution_count": 4,
     "metadata": {},
     "output_type": "execute_result"
    }
   ],
   "source": [
    "block.keys()\n"
   ]
  },
  {
   "cell_type": "code",
   "execution_count": 5,
   "metadata": {},
   "outputs": [
    {
     "ename": "AttributeError",
     "evalue": "'dict' object has no attribute 'to_json'",
     "output_type": "error",
     "traceback": [
      "\u001b[1;31m---------------------------------------------------------------------------\u001b[0m",
      "\u001b[1;31mAttributeError\u001b[0m                            Traceback (most recent call last)",
      "Cell \u001b[1;32mIn[5], line 2\u001b[0m\n\u001b[0;32m      1\u001b[0m \u001b[38;5;28;01mimport\u001b[39;00m \u001b[38;5;21;01mjson\u001b[39;00m\n\u001b[1;32m----> 2\u001b[0m block_json \u001b[38;5;241m=\u001b[39m json\u001b[38;5;241m.\u001b[39mloads(\u001b[43mblock\u001b[49m\u001b[38;5;241;43m.\u001b[39;49m\u001b[43mto_json\u001b[49m())\n",
      "\u001b[1;31mAttributeError\u001b[0m: 'dict' object has no attribute 'to_json'"
     ]
    }
   ],
   "source": [
    "import json\n",
    "block_json = json.loads(block.to_json())\n",
    "\n"
   ]
  },
  {
   "cell_type": "code",
   "execution_count": 8,
   "metadata": {},
   "outputs": [
    {
     "data": {
      "text/plain": [
       "dict_keys(['previousBlockhash', 'blockhash', 'parentSlot', 'transactions', 'rewards', 'blockTime', 'blockHeight'])"
      ]
     },
     "execution_count": 8,
     "metadata": {},
     "output_type": "execute_result"
    }
   ],
   "source": [
    "block_json.keys()\n"
   ]
  },
  {
   "cell_type": "code",
   "execution_count": 78,
   "metadata": {},
   "outputs": [
    {
     "name": "stdout",
     "output_type": "stream",
     "text": [
      "6SFoRzYavAk9F6p6iqNwfLiiaVCA8mmLmVySXz4yRwBh\n",
      "CuyfwMgQ2FJN24uq3DfN3JkynUTkyNYBm2C2hPQdCn3z\n",
      "312329283\n",
      "1736202025\n",
      "290646819\n",
      "{'transaction': {'signatures': ['2g4XbhhDXZUBReJ2iHKu4zwZ1EohsnMeAtmuA5bZMnzBAyDC16CvKA2rFiY23c54iVL4Jsp457WHd8a64TBMqwib'], 'message': {'accountKeys': [{'pubkey': 'Frog1Fks1AVN8ywFH3HTFeYojq6LQqoEPzgQFx2Kz5Ch', 'writable': True, 'signer': True, 'source': 'transaction'}, {'pubkey': 'feeywn2ffX8DivmRvBJ9i9YZnss7WBouTmujfQcEdeY', 'writable': True, 'signer': False, 'source': 'transaction'}, {'pubkey': '3AVi9Tg9Uo68tJfuvoKvqKNWKkC5wPdSSdeBnizKZ6jT', 'writable': True, 'signer': False, 'source': 'transaction'}, {'pubkey': '96gYZGLnJYVFmbjzopPSU6QiEV5fGqZNyN9nmNhvrZU5', 'writable': True, 'signer': False, 'source': 'transaction'}, {'pubkey': 'ADaUMid9yfUytqMBgopwjb2DTLSokTSzL1zt6iGPaS49', 'writable': True, 'signer': False, 'source': 'transaction'}, {'pubkey': 'ADuUkR4vqLUMWXxW9gh6D6L8pMSawimctcNZ5pGwDcEt', 'writable': True, 'signer': False, 'source': 'transaction'}, {'pubkey': 'Cw8CFyM9FkoMi7K7Crf6HNQqf4uEMzpKw6QNghXLvLkY', 'writable': True, 'signer': False, 'source': 'transaction'}, {'pubkey': 'DfXygSm4jCyNCybVYYK6DwvWqjKee8pbDmJGcLWNDXjh', 'writable': True, 'signer': False, 'source': 'transaction'}, {'pubkey': 'DttWaMuVvTiduZRnguLF7jNxTgiMBZ1hyAumKUiL2KRL', 'writable': True, 'signer': False, 'source': 'transaction'}, {'pubkey': 'EmXpzLb6hqd3c2MKFVqD3MCEFrJ7F2B4XqZTYBsoNNot', 'writable': True, 'signer': False, 'source': 'transaction'}, {'pubkey': 'H2KskedtErtRXqY2NgsjZV6jihkPzKNfsAtbQzyEB3tc', 'writable': True, 'signer': False, 'source': 'transaction'}, {'pubkey': 'HFqU5x63VTqvQss8hp11i4wVV8bD44PvwucfZ2bU7gRe', 'writable': True, 'signer': False, 'source': 'transaction'}, {'pubkey': 'HgzT81VF1xZ3FT9Eq1pHhea7Wcfq2bv4tWTP3VvJ8Y9D', 'writable': True, 'signer': False, 'source': 'transaction'}, {'pubkey': 'T1pyyaTNZsKv2WcRAB8oVnk93mLJw2XzjtVYqCsaHqt', 'writable': False, 'signer': False, 'source': 'transaction'}], 'recentBlockhash': '6SFoRzYavAk9F6p6iqNwfLiiaVCA8mmLmVySXz4yRwBh', 'instructions': [{'programId': 'T1pyyaTNZsKv2WcRAB8oVnk93mLJw2XzjtVYqCsaHqt', 'accounts': ['HgzT81VF1xZ3FT9Eq1pHhea7Wcfq2bv4tWTP3VvJ8Y9D', 'H2KskedtErtRXqY2NgsjZV6jihkPzKNfsAtbQzyEB3tc', 'EmXpzLb6hqd3c2MKFVqD3MCEFrJ7F2B4XqZTYBsoNNot', 'feeywn2ffX8DivmRvBJ9i9YZnss7WBouTmujfQcEdeY', '96gYZGLnJYVFmbjzopPSU6QiEV5fGqZNyN9nmNhvrZU5', 'HFqU5x63VTqvQss8hp11i4wVV8bD44PvwucfZ2bU7gRe', 'Cw8CFyM9FkoMi7K7Crf6HNQqf4uEMzpKw6QNghXLvLkY', 'ADaUMid9yfUytqMBgopwjb2DTLSokTSzL1zt6iGPaS49', 'DfXygSm4jCyNCybVYYK6DwvWqjKee8pbDmJGcLWNDXjh', 'ADuUkR4vqLUMWXxW9gh6D6L8pMSawimctcNZ5pGwDcEt', 'DttWaMuVvTiduZRnguLF7jNxTgiMBZ1hyAumKUiL2KRL', '3AVi9Tg9Uo68tJfuvoKvqKNWKkC5wPdSSdeBnizKZ6jT', 'Frog1Fks1AVN8ywFH3HTFeYojq6LQqoEPzgQFx2Kz5Ch'], 'data': 'Cc9CdHiv1Kc', 'stackHeight': None}, {'programId': 'T1pyyaTNZsKv2WcRAB8oVnk93mLJw2XzjtVYqCsaHqt', 'accounts': ['HgzT81VF1xZ3FT9Eq1pHhea7Wcfq2bv4tWTP3VvJ8Y9D', 'EmXpzLb6hqd3c2MKFVqD3MCEFrJ7F2B4XqZTYBsoNNot', 'feeywn2ffX8DivmRvBJ9i9YZnss7WBouTmujfQcEdeY', 'feeywn2ffX8DivmRvBJ9i9YZnss7WBouTmujfQcEdeY', '96gYZGLnJYVFmbjzopPSU6QiEV5fGqZNyN9nmNhvrZU5', 'HFqU5x63VTqvQss8hp11i4wVV8bD44PvwucfZ2bU7gRe', 'Cw8CFyM9FkoMi7K7Crf6HNQqf4uEMzpKw6QNghXLvLkY', 'ADaUMid9yfUytqMBgopwjb2DTLSokTSzL1zt6iGPaS49', 'DfXygSm4jCyNCybVYYK6DwvWqjKee8pbDmJGcLWNDXjh', 'ADuUkR4vqLUMWXxW9gh6D6L8pMSawimctcNZ5pGwDcEt', 'DttWaMuVvTiduZRnguLF7jNxTgiMBZ1hyAumKUiL2KRL', '3AVi9Tg9Uo68tJfuvoKvqKNWKkC5wPdSSdeBnizKZ6jT', 'Frog1Fks1AVN8ywFH3HTFeYojq6LQqoEPzgQFx2Kz5Ch'], 'data': 'HaxoMzjt8k2C45xsWajAzK', 'stackHeight': None}]}}, 'meta': {'err': None, 'status': {'Ok': None}, 'fee': 5000, 'preBalances': [33629384643, 14149147066, 183485078, 56108109, 75889031, 67678135, 59071668, 87956644, 54032031, 96805222148, 15660623099, 42470316, 1610320, 1141440], 'postBalances': [33629379643, 14180102992, 946560, 946560, 946560, 946560, 946560, 946560, 946560, 96805222148, 16248785705, 946560, 1610320, 1141440], 'innerInstructions': [], 'logMessages': ['Program T1pyyaTNZsKv2WcRAB8oVnk93mLJw2XzjtVYqCsaHqt invoke [1]', 'Program log: Instruction: ChangeTipReceiver', 'Program data: r9z632JxKzfuEeno+9NXG2XrutF34TjyDGzQ7vUslJX9INpULY4KGS6mDiMAAAAACealsNC0x1MUM2AzH4YaOSznRgh0vi+NdZfOa6bjiqmWWdgBAAAAAA==', 'Program T1pyyaTNZsKv2WcRAB8oVnk93mLJw2XzjtVYqCsaHqt consumed 39195 of 400000 compute units', 'Program T1pyyaTNZsKv2WcRAB8oVnk93mLJw2XzjtVYqCsaHqt success', 'Program T1pyyaTNZsKv2WcRAB8oVnk93mLJw2XzjtVYqCsaHqt invoke [1]', 'Program log: Instruction: ChangeBlockBuilder', 'Program T1pyyaTNZsKv2WcRAB8oVnk93mLJw2XzjtVYqCsaHqt consumed 38260 of 360805 compute units', 'Program T1pyyaTNZsKv2WcRAB8oVnk93mLJw2XzjtVYqCsaHqt success'], 'preTokenBalances': [], 'postTokenBalances': [], 'rewards': [], 'computeUnitsConsumed': 77455}, 'version': 'legacy'}\n",
      "[{'pubkey': 'Frog1Fks1AVN8ywFH3HTFeYojq6LQqoEPzgQFx2Kz5Ch', 'lamports': 161052132, 'postBalance': 33790421775, 'rewardType': 'Fee', 'commission': None}]\n"
     ]
    }
   ],
   "source": [
    "print(block_json['previousBlockhash'])\n",
    "print(block_json['blockhash'])\n",
    "print(block_json['parentSlot'])\n",
    "print(block_json['blockTime'])\n",
    "print(block_json['blockHeight'])\n",
    "\n",
    "print(block_json['transactions'][0])\n",
    "print(block_json['rewards'])\n"
   ]
  },
  {
   "cell_type": "code",
   "execution_count": 79,
   "metadata": {},
   "outputs": [
    {
     "data": {
      "text/plain": [
       "[{'pubkey': 'Frog1Fks1AVN8ywFH3HTFeYojq6LQqoEPzgQFx2Kz5Ch',\n",
       "  'lamports': 161052132,\n",
       "  'postBalance': 33790421775,\n",
       "  'rewardType': 'Fee',\n",
       "  'commission': None}]"
      ]
     },
     "execution_count": 79,
     "metadata": {},
     "output_type": "execute_result"
    }
   ],
   "source": [
    "block_json['rewards']\n"
   ]
  },
  {
   "cell_type": "code",
   "execution_count": 81,
   "metadata": {},
   "outputs": [
    {
     "data": {
      "text/plain": [
       "2067"
      ]
     },
     "execution_count": 81,
     "metadata": {},
     "output_type": "execute_result"
    }
   ],
   "source": [
    "len(block_json['transactions'])\n"
   ]
  },
  {
   "cell_type": "code",
   "execution_count": 51,
   "metadata": {},
   "outputs": [],
   "source": [
    "transaction = block_json['transactions'][0]"
   ]
  },
  {
   "cell_type": "code",
   "execution_count": 56,
   "metadata": {},
   "outputs": [
    {
     "name": "stdout",
     "output_type": "stream",
     "text": [
      "3\n"
     ]
    },
    {
     "data": {
      "text/plain": [
       "'legacy'"
      ]
     },
     "execution_count": 56,
     "metadata": {},
     "output_type": "execute_result"
    }
   ],
   "source": [
    "print(len(transaction))\n",
    "# 3 Catagories in a transaction\n",
    "transaction['transaction']\n",
    "transaction['meta']\n",
    "transaction['version']"
   ]
  },
  {
   "cell_type": "code",
   "execution_count": 84,
   "metadata": {},
   "outputs": [
    {
     "data": {
      "text/plain": [
       "['2g4XbhhDXZUBReJ2iHKu4zwZ1EohsnMeAtmuA5bZMnzBAyDC16CvKA2rFiY23c54iVL4Jsp457WHd8a64TBMqwib']"
      ]
     },
     "execution_count": 84,
     "metadata": {},
     "output_type": "execute_result"
    }
   ],
   "source": [
    "len(transaction['transaction'])\n",
    "transaction['transaction']['message']\n",
    "transaction['transaction']['signatures']\n"
   ]
  },
  {
   "cell_type": "code",
   "execution_count": 65,
   "metadata": {},
   "outputs": [
    {
     "data": {
      "text/plain": [
       "3"
      ]
     },
     "execution_count": 65,
     "metadata": {},
     "output_type": "execute_result"
    }
   ],
   "source": [
    "len(transaction['transaction']['message'])\n",
    "transaction['transaction']['message']['accountKeys']\n",
    "\n",
    "transaction['transaction']['message']['recentBlockhash']"
   ]
  },
  {
   "cell_type": "code",
   "execution_count": 76,
   "metadata": {},
   "outputs": [
    {
     "data": {
      "text/plain": [
       "13"
      ]
     },
     "execution_count": 76,
     "metadata": {},
     "output_type": "execute_result"
    }
   ],
   "source": [
    "len(transaction['transaction']['message']['instructions'][1]['accounts'])\n",
    "\n"
   ]
  },
  {
   "cell_type": "code",
   "execution_count": 100,
   "metadata": {},
   "outputs": [
    {
     "data": {
      "text/plain": [
       "{'err': None,\n",
       " 'status': {'Ok': None},\n",
       " 'fee': 5000,\n",
       " 'preBalances': [33629384643,\n",
       "  14149147066,\n",
       "  183485078,\n",
       "  56108109,\n",
       "  75889031,\n",
       "  67678135,\n",
       "  59071668,\n",
       "  87956644,\n",
       "  54032031,\n",
       "  96805222148,\n",
       "  15660623099,\n",
       "  42470316,\n",
       "  1610320,\n",
       "  1141440],\n",
       " 'postBalances': [33629379643,\n",
       "  14180102992,\n",
       "  946560,\n",
       "  946560,\n",
       "  946560,\n",
       "  946560,\n",
       "  946560,\n",
       "  946560,\n",
       "  946560,\n",
       "  96805222148,\n",
       "  16248785705,\n",
       "  946560,\n",
       "  1610320,\n",
       "  1141440],\n",
       " 'innerInstructions': [],\n",
       " 'logMessages': ['Program T1pyyaTNZsKv2WcRAB8oVnk93mLJw2XzjtVYqCsaHqt invoke [1]',\n",
       "  'Program log: Instruction: ChangeTipReceiver',\n",
       "  'Program data: r9z632JxKzfuEeno+9NXG2XrutF34TjyDGzQ7vUslJX9INpULY4KGS6mDiMAAAAACealsNC0x1MUM2AzH4YaOSznRgh0vi+NdZfOa6bjiqmWWdgBAAAAAA==',\n",
       "  'Program T1pyyaTNZsKv2WcRAB8oVnk93mLJw2XzjtVYqCsaHqt consumed 39195 of 400000 compute units',\n",
       "  'Program T1pyyaTNZsKv2WcRAB8oVnk93mLJw2XzjtVYqCsaHqt success',\n",
       "  'Program T1pyyaTNZsKv2WcRAB8oVnk93mLJw2XzjtVYqCsaHqt invoke [1]',\n",
       "  'Program log: Instruction: ChangeBlockBuilder',\n",
       "  'Program T1pyyaTNZsKv2WcRAB8oVnk93mLJw2XzjtVYqCsaHqt consumed 38260 of 360805 compute units',\n",
       "  'Program T1pyyaTNZsKv2WcRAB8oVnk93mLJw2XzjtVYqCsaHqt success'],\n",
       " 'preTokenBalances': [],\n",
       " 'postTokenBalances': [],\n",
       " 'rewards': [],\n",
       " 'computeUnitsConsumed': 77455}"
      ]
     },
     "execution_count": 100,
     "metadata": {},
     "output_type": "execute_result"
    }
   ],
   "source": [
    "transaction['meta']"
   ]
  },
  {
   "cell_type": "code",
   "execution_count": null,
   "metadata": {},
   "outputs": [],
   "source": []
  }
 ],
 "metadata": {
  "kernelspec": {
   "display_name": "blockchain",
   "language": "python",
   "name": "python3"
  },
  "language_info": {
   "codemirror_mode": {
    "name": "ipython",
    "version": 3
   },
   "file_extension": ".py",
   "mimetype": "text/x-python",
   "name": "python",
   "nbconvert_exporter": "python",
   "pygments_lexer": "ipython3",
   "version": "3.11.11"
  }
 },
 "nbformat": 4,
 "nbformat_minor": 2
}
