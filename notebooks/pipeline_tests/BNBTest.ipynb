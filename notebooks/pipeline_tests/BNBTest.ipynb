{
 "cells": [
  {
   "cell_type": "code",
   "execution_count": 1,
   "metadata": {},
   "outputs": [],
   "source": [
    "\n",
    "import sys\n",
    "import os\n",
    "from pathlib import Path\n",
    "\n",
    "# Get absolute path to project root\n",
    "project_root = Path(os.getcwd()).resolve()\n",
    "if project_root.name != \"ncg87-blockchain_tracker\":\n",
    "    project_root = project_root.parent  # Adjust if running from a subdirectory\n",
    "\n",
    "sys.path.append(str(project_root))\n",
    "\n",
    "# Add to Python path if not already there\n",
    "if str(project_root) not in sys.path:\n",
    "    sys.path.insert(0, str(project_root))\n",
    "\n",
    "from config import Settings\n",
    "from chains import BNBQuerier, BNBProcessor, BNBPipeline\n",
    "from database import Database\n",
    "import logging\n",
    "\n",
    "logging.basicConfig(level=logging.INFO,\n",
    "                   format='%(asctime)s - %(levelname)s - %(message)s')\n"
   ]
  },
  {
   "cell_type": "code",
   "execution_count": 2,
   "metadata": {},
   "outputs": [
    {
     "name": "stderr",
     "output_type": "stream",
     "text": [
      "2025-01-08 00:42:55,830 - INFO - Applying schema from C:\\Users\\Nicko\\vscodeprojects\\blockchain_tracker\\database\\schema.sql\n",
      "2025-01-08 00:42:55,831 - INFO - Schema applied successfully.\n",
      "2025-01-08 00:42:55,832 - INFO - Starting BNB pipeline...\n",
      "2025-01-08 00:42:55,832 - INFO - Initialized BNB querier\n",
      "2025-01-08 00:42:55,834 - INFO - Initializing WebSocketHandler for BNB\n",
      "2025-01-08 00:42:55,834 - INFO - Initializing BNBWebSocketHandler for BNB\n",
      "2025-01-08 00:42:55,835 - INFO - Initialized BNB processor\n"
     ]
    }
   ],
   "source": [
    "\n",
    "database = Database()\n",
    "\n",
    "pipeline = BNBPipeline(database)\n"
   ]
  },
  {
   "cell_type": "code",
   "execution_count": 3,
   "metadata": {},
   "outputs": [
    {
     "name": "stderr",
     "output_type": "stream",
     "text": [
      "2025-01-08 00:42:55,842 - INFO - Starting BNB pipeline in real-time mode...\n",
      "2025-01-08 00:42:56,378 - INFO - Connected to WebSocket: BNB\n",
      "2025-01-08 00:42:56,380 - INFO - Subscribed to BNB updates.\n",
      "2025-01-08 00:42:58,315 - INFO - Received block: 45577923\n",
      "2025-01-08 00:42:58,316 - INFO - Processing block 0x2b776c3 on BNB\n",
      "2025-01-08 00:42:58,316 - INFO - Inserting block 45577923 into database\n",
      "2025-01-08 00:42:58,331 - INFO - Block 45577923 inserted successfully\n",
      "2025-01-08 00:43:01,266 - INFO - Received block: 45577924\n",
      "2025-01-08 00:43:01,267 - INFO - Processing block 0x2b776c4 on BNB\n",
      "2025-01-08 00:43:01,267 - INFO - Inserting block 45577924 into database\n",
      "2025-01-08 00:43:01,282 - INFO - Block 45577924 inserted successfully\n",
      "2025-01-08 00:43:04,214 - INFO - Received block: 45577925\n",
      "2025-01-08 00:43:04,214 - INFO - Processing block 0x2b776c5 on BNB\n",
      "2025-01-08 00:43:04,215 - INFO - Inserting block 45577925 into database\n",
      "2025-01-08 00:43:04,218 - INFO - Block 45577925 inserted successfully\n",
      "2025-01-08 00:43:07,567 - INFO - Received block: 45577926\n",
      "2025-01-08 00:43:07,569 - INFO - Processing block 0x2b776c6 on BNB\n",
      "2025-01-08 00:43:07,570 - INFO - Inserting block 45577926 into database\n",
      "2025-01-08 00:43:07,585 - INFO - Block 45577926 inserted successfully\n",
      "2025-01-08 00:43:07,604 - INFO - WebSocket connection stopped for BNB.\n",
      "2025-01-08 00:43:07,605 - INFO - BNB pipeline completed in real-time mode.\n"
     ]
    }
   ],
   "source": [
    "await pipeline.run(duration=10)"
   ]
  },
  {
   "cell_type": "code",
   "execution_count": 4,
   "metadata": {},
   "outputs": [
    {
     "name": "stderr",
     "output_type": "stream",
     "text": [
      "2025-01-08 00:43:07,612 - INFO - Initialized BNB querier\n",
      "2025-01-08 00:43:07,613 - INFO - Initializing WebSocketHandler for BNB\n",
      "2025-01-08 00:43:07,614 - INFO - Initializing BNBWebSocketHandler for BNB\n",
      "2025-01-08 00:43:07,801 - INFO - Fetching block latest\n",
      "2025-01-08 00:43:07,986 - INFO - Initialized BNB processor\n"
     ]
    },
    {
     "name": "stdout",
     "output_type": "stream",
     "text": [
      "True\n"
     ]
    }
   ],
   "source": [
    "querier = BNBQuerier()\n",
    "print(querier.is_connected())\n",
    "\n",
    "block = await querier.get_block()\n",
    "\n",
    "processor = BNBProcessor(database, querier)\n",
    "\n"
   ]
  },
  {
   "cell_type": "code",
   "execution_count": 5,
   "metadata": {},
   "outputs": [
    {
     "data": {
      "text/plain": [
       "HexBytes('0xd88301040e846765746888676f312e32332e30856c696e757800000060adae27f8b5831fffffb86097df321c9ceb41b2171fd41b1909348ec3c923e227cec385a397084bf22ec412dc480b91a9e4bbd59f9984e897912641154d23b0d64977ed1c51b2e7d84cb11c2cf9e6b3662b6ed213c642843686c97df29d1c6506bb0d6ebd791a1dbd731fe8f84c8402b776c4a07887efadd175c68ce417391248d0bb6e90b4ecc8eef925ea91891a0947e3499a8402b776c5a0f82ff5a47482750e3c58ee8aea0a6feb2f09d05beef23559b283b94775ac39fa805f147601296bcc6f18d5765147c0e10cf92fccfeba3ca691714c937fc661543f710badc15e0d64d5d6c979e843e6842c53b38781302890ac421ca7a4da9e5f7601')"
      ]
     },
     "execution_count": 5,
     "metadata": {},
     "output_type": "execute_result"
    }
   ],
   "source": [
    "block.proofOfAuthorityData\n"
   ]
  },
  {
   "cell_type": "code",
   "execution_count": 6,
   "metadata": {},
   "outputs": [
    {
     "name": "stderr",
     "output_type": "stream",
     "text": [
      "2025-01-08 00:43:08,013 - INFO - Processing block 45577926 on BNB\n",
      "2025-01-08 00:43:08,013 - INFO - Inserting block 45577926 into database\n",
      "2025-01-08 00:43:08,017 - INFO - Block 45577926 inserted successfully\n"
     ]
    }
   ],
   "source": [
    "await processor.process_block(block)\n"
   ]
  },
  {
   "cell_type": "code",
   "execution_count": 3,
   "metadata": {},
   "outputs": [],
   "source": [
    "block_dict = dict(block)\n",
    "\n"
   ]
  },
  {
   "cell_type": "code",
   "execution_count": 11,
   "metadata": {},
   "outputs": [
    {
     "data": {
      "text/plain": [
       "26"
      ]
     },
     "execution_count": 11,
     "metadata": {},
     "output_type": "execute_result"
    }
   ],
   "source": [
    "len(block_dict.keys())"
   ]
  },
  {
   "cell_type": "code",
   "execution_count": null,
   "metadata": {},
   "outputs": [],
   "source": []
  }
 ],
 "metadata": {
  "kernelspec": {
   "display_name": "blockchain",
   "language": "python",
   "name": "python3"
  },
  "language_info": {
   "codemirror_mode": {
    "name": "ipython",
    "version": 3
   },
   "file_extension": ".py",
   "mimetype": "text/x-python",
   "name": "python",
   "nbconvert_exporter": "python",
   "pygments_lexer": "ipython3",
   "version": "3.11.11"
  }
 },
 "nbformat": 4,
 "nbformat_minor": 2
}
