{
 "cells": [
  {
   "cell_type": "code",
   "execution_count": 1,
   "metadata": {},
   "outputs": [],
   "source": [
    "import sys\n",
    "import os\n",
    "from pathlib import Path\n",
    "\n",
    "# Get absolute path to project root\n",
    "project_root = Path(os.getcwd()).resolve()\n",
    "if project_root.name != \"ncg87-blockchain_tracker\":\n",
    "    project_root = project_root.parent.parent.parent  # Adjust if running from a subdirectory\n",
    "\n",
    "sys.path.append(str(project_root))\n",
    "\n",
    "# Add to Python path if not already there\n",
    "if str(project_root) not in sys.path:\n",
    "    sys.path.insert(0, str(project_root))\n",
    "\n",
    "from config import Settings\n",
    "import logging\n",
    "from database import MongoDatabase, MongoInsertOperations, MongoQueryOperations\n",
    "logging.basicConfig(level=logging.INFO,\n",
    "                   format='%(asctime)s - %(levelname)s - %(message)s')\n"
   ]
  },
  {
   "cell_type": "code",
   "execution_count": 2,
   "metadata": {},
   "outputs": [
    {
     "name": "stderr",
     "output_type": "stream",
     "text": [
      "2025-01-10 17:31:47,780 - INFO - Connected to MongoDB database: blockchain\n",
      "2025-01-10 17:31:47,802 - INFO - Indexes created for collection: Solana\n",
      "2025-01-10 17:31:47,804 - INFO - Indexes created for collection: Bitcoin\n",
      "2025-01-10 17:31:47,805 - INFO - Indexes created for collection: Ethereum\n",
      "2025-01-10 17:31:47,807 - INFO - Indexes created for collection: BNB\n",
      "2025-01-10 17:31:47,808 - INFO - Indexes created for collection: XRP\n",
      "2025-01-10 17:31:48,606 - INFO - Retrieved 100 most recent blocks from the Solana collection.\n"
     ]
    }
   ],
   "source": [
    "mongodb = MongoDatabase()\n",
    "mongodb_query_ops = MongoQueryOperations(mongodb)\n",
    "\n",
    "query = mongodb_query_ops.get_recent_blocks('Solana',100)\n",
    "data = query[0]['raw_block_data']"
   ]
  },
  {
   "cell_type": "code",
   "execution_count": null,
   "metadata": {},
   "outputs": [],
   "source": []
  }
 ],
 "metadata": {
  "kernelspec": {
   "display_name": "blockchain",
   "language": "python",
   "name": "python3"
  },
  "language_info": {
   "codemirror_mode": {
    "name": "ipython",
    "version": 3
   },
   "file_extension": ".py",
   "mimetype": "text/x-python",
   "name": "python",
   "nbconvert_exporter": "python",
   "pygments_lexer": "ipython3",
   "version": "3.11.11"
  }
 },
 "nbformat": 4,
 "nbformat_minor": 2
}
