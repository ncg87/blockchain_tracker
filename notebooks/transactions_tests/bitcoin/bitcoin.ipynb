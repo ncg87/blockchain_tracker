{
 "cells": [
  {
   "cell_type": "code",
   "execution_count": 2,
   "metadata": {},
   "outputs": [],
   "source": [
    "import sys\n",
    "import os\n",
    "from pathlib import Path\n",
    "\n",
    "# Get absolute path to project root\n",
    "project_root = Path(os.getcwd()).resolve()\n",
    "if project_root.name != \"ncg87-blockchain_tracker\":\n",
    "    project_root = project_root.parent.parent.parent  # Adjust if running from a subdirectory\n",
    "\n",
    "sys.path.append(str(project_root))\n",
    "\n",
    "# Add to Python path if not already there\n",
    "if str(project_root) not in sys.path:\n",
    "    sys.path.insert(0, str(project_root))\n",
    "\n",
    "from config import Settings\n",
    "from chains import BitcoinQuerier, BitcoinProcessor, BitcoinPipeline\n",
    "import logging\n",
    "from database import MongoDatabase, MongoInsertOperations, MongoQueryOperations\n",
    "\n",
    "logging.basicConfig(level=logging.INFO,\n",
    "                   format='%(asctime)s - %(levelname)s - %(message)s')\n"
   ]
  },
  {
   "cell_type": "code",
   "execution_count": 4,
   "metadata": {},
   "outputs": [
    {
     "name": "stderr",
     "output_type": "stream",
     "text": [
      "2025-01-10 01:26:43,862 - INFO - Connected to MongoDB database: blockchain\n",
      "2025-01-10 01:26:43,883 - INFO - Indexes created for collection: Solana\n",
      "2025-01-10 01:26:43,885 - INFO - Indexes created for collection: Bitcoin\n",
      "2025-01-10 01:26:43,887 - INFO - Indexes created for collection: Ethereum\n",
      "2025-01-10 01:26:43,889 - INFO - Indexes created for collection: BNB\n",
      "2025-01-10 01:26:43,891 - INFO - Indexes created for collection: XRP\n",
      "2025-01-10 01:26:43,907 - INFO - Retrieved 4 most recent blocks from the Bitcoin collection.\n"
     ]
    }
   ],
   "source": [
    "mongodb = MongoDatabase()\n",
    "mongodb_query_ops = MongoQueryOperations(mongodb)\n",
    "\n",
    "query = mongodb_query_ops.get_recent_blocks('Bitcoin')\n",
    "data = query[0]['raw_block_data']"
   ]
  },
  {
   "cell_type": "code",
   "execution_count": 13,
   "metadata": {},
   "outputs": [
    {
     "data": {
      "text/plain": [
       "4360"
      ]
     },
     "execution_count": 13,
     "metadata": {},
     "output_type": "execute_result"
    }
   ],
   "source": [
    "len(data['tx'])"
   ]
  },
  {
   "cell_type": "code",
   "execution_count": 12,
   "metadata": {},
   "outputs": [
    {
     "data": {
      "text/plain": [
       "{'txid': '70ee20c7cc6789667d79e7398268324313d0ccadf06d825fb89bc260e8fb5380',\n",
       " 'hash': '0825ed681ba82d61ba8f2c032048910ba8087a89d83618caecfabcd0a1f0ead1',\n",
       " 'version': 1,\n",
       " 'size': 421,\n",
       " 'vsize': 394,\n",
       " 'weight': 1576,\n",
       " 'locktime': 0,\n",
       " 'vin': [{'coinbase': '036e670d194d696e656420627920416e74506f6f6c206c01c002da0a0ce7fabe6d6de8217c34784e68bb89f1ee51e01d7fb27eb9a90d8c5a58aa593bf444ed2952461000000000000000cbd100002902010000000000',\n",
       "   'txinwitness': ['0000000000000000000000000000000000000000000000000000000000000000'],\n",
       "   'sequence': 4294967295}],\n",
       " 'vout': [{'value': 5.46e-06,\n",
       "   'n': 0,\n",
       "   'scriptPubKey': {'asm': 'OP_HASH160 42402a28dd61f2718a4b27ae72a4791d5bbdade7 OP_EQUAL',\n",
       "    'desc': 'addr(37jKPSmbEGwgfacCr2nayn1wTaqMAbA94Z)#avhxp88d',\n",
       "    'hex': 'a91442402a28dd61f2718a4b27ae72a4791d5bbdade787',\n",
       "    'address': '37jKPSmbEGwgfacCr2nayn1wTaqMAbA94Z',\n",
       "    'type': 'scripthash'}},\n",
       "  {'value': 3.16522382,\n",
       "   'n': 1,\n",
       "   'scriptPubKey': {'asm': 'OP_HASH160 5249bdf2c131d43995cff42e8feee293f79297a8 OP_EQUAL',\n",
       "    'desc': 'addr(39C7fxSzEACPjM78Z7xdPxhf7mKxJwvfMJ)#vjljy0jc',\n",
       "    'hex': 'a9145249bdf2c131d43995cff42e8feee293f79297a887',\n",
       "    'address': '39C7fxSzEACPjM78Z7xdPxhf7mKxJwvfMJ',\n",
       "    'type': 'scripthash'}},\n",
       "  {'value': 0.0,\n",
       "   'n': 2,\n",
       "   'scriptPubKey': {'asm': 'OP_RETURN aa21a9ed4da0685c5c35a8da77b9b2b92e54ce3083f89cf5b5ad85a055378581c628da10',\n",
       "    'desc': 'raw(6a24aa21a9ed4da0685c5c35a8da77b9b2b92e54ce3083f89cf5b5ad85a055378581c628da10)#j3dh73tv',\n",
       "    'hex': '6a24aa21a9ed4da0685c5c35a8da77b9b2b92e54ce3083f89cf5b5ad85a055378581c628da10',\n",
       "    'type': 'nulldata'}},\n",
       "  {'value': 0.0,\n",
       "   'n': 3,\n",
       "   'scriptPubKey': {'asm': 'OP_RETURN 434f524501a37cf4faa0758b26dca666f3e36d42fa15cc01064e3ecda72cb7961caa4b541b1e322bcfe0b5a030',\n",
       "    'desc': 'raw(6a2d434f524501a37cf4faa0758b26dca666f3e36d42fa15cc01064e3ecda72cb7961caa4b541b1e322bcfe0b5a030)#djrqagdj',\n",
       "    'hex': '6a2d434f524501a37cf4faa0758b26dca666f3e36d42fa15cc01064e3ecda72cb7961caa4b541b1e322bcfe0b5a030',\n",
       "    'type': 'nulldata'}},\n",
       "  {'value': 0.0,\n",
       "   'n': 4,\n",
       "   'scriptPubKey': {'asm': 'OP_RETURN 455853415401000d130f0e0e0b041f120013',\n",
       "    'desc': 'raw(6a12455853415401000d130f0e0e0b041f120013)#39a8xnqr',\n",
       "    'hex': '6a12455853415401000d130f0e0e0b041f120013',\n",
       "    'type': 'nulldata'}},\n",
       "  {'value': 0.0,\n",
       "   'n': 5,\n",
       "   'scriptPubKey': {'asm': 'OP_RETURN 52534b424c4f434b3a6a22334f945c9fa5e33d91310c5f48aa5f6afcfeccf082afe67f8b12006c83bb',\n",
       "    'desc': 'raw(6a2952534b424c4f434b3a6a22334f945c9fa5e33d91310c5f48aa5f6afcfeccf082afe67f8b12006c83bb)#ld4xz7m8',\n",
       "    'hex': '6a2952534b424c4f434b3a6a22334f945c9fa5e33d91310c5f48aa5f6afcfeccf082afe67f8b12006c83bb',\n",
       "    'type': 'nulldata'}}],\n",
       " 'hex': '010000000001010000000000000000000000000000000000000000000000000000000000000000ffffffff56036e670d194d696e656420627920416e74506f6f6c206c01c002da0a0ce7fabe6d6de8217c34784e68bb89f1ee51e01d7fb27eb9a90d8c5a58aa593bf444ed2952461000000000000000cbd100002902010000000000ffffffff06220200000000000017a91442402a28dd61f2718a4b27ae72a4791d5bbdade7878ebfdd120000000017a9145249bdf2c131d43995cff42e8feee293f79297a8870000000000000000266a24aa21a9ed4da0685c5c35a8da77b9b2b92e54ce3083f89cf5b5ad85a055378581c628da1000000000000000002f6a2d434f524501a37cf4faa0758b26dca666f3e36d42fa15cc01064e3ecda72cb7961caa4b541b1e322bcfe0b5a0300000000000000000146a12455853415401000d130f0e0e0b041f12001300000000000000002b6a2952534b424c4f434b3a6a22334f945c9fa5e33d91310c5f48aa5f6afcfeccf082afe67f8b12006c83bb0120000000000000000000000000000000000000000000000000000000000000000000000000'}"
      ]
     },
     "execution_count": 12,
     "metadata": {},
     "output_type": "execute_result"
    }
   ],
   "source": [
    "data['tx'][0]"
   ]
  },
  {
   "cell_type": "code",
   "execution_count": 10,
   "metadata": {},
   "outputs": [
    {
     "data": {
      "text/plain": [
       "{'txid': 'df9e87d4c18496db909cd6c2a310dff617e4e672252755a12b8aa9838528defc',\n",
       " 'hash': 'ece7fd567d6de6bf8db485573956cb6f40d8ad6b80dee6c7e3950c5de196910e',\n",
       " 'version': 1,\n",
       " 'size': 392,\n",
       " 'vsize': 201,\n",
       " 'weight': 803,\n",
       " 'locktime': 0,\n",
       " 'vin': [{'txid': 'dbb204dfa170d110ff06a672bda9f60fccabbb88c761289dce9e25055492da33',\n",
       "   'vout': 1,\n",
       "   'scriptSig': {'asm': '', 'hex': ''},\n",
       "   'txinwitness': ['',\n",
       "    '3045022100e46190f1eaeaef2f68bf46e7c10aa77ed21897d13a16dbe9a39491acab0dc54d022075616e3f775e3d77c4a764489b6bb7bb24e860f4d1e73c294ea7e015ec9f133d01',\n",
       "    '30440220020b062bb1f5af34ad97046dcff79496ee213b5d1294985d7b4d1b0aa6c4b72f02203261e9dde769ae61b15eff9f8a0d97b5e7dc41bb8153a284da9cfb15dcfb35b301',\n",
       "    '5221025adaa68725011aa2fe3dccf6cfd36ac7937a477d0d716684f6c7cc1b489ab1b62103eb4755698f928baae215891562e7f955c3ede634c5ce39d3839c3ea6213a04f621034d0e66b77cbc6b2a7f3f9bef3edf15459763aa05878ff3b634841b9f065fcd0e53ae'],\n",
       "   'sequence': 4294967293}],\n",
       " 'vout': [{'value': 0.0328,\n",
       "   'n': 0,\n",
       "   'scriptPubKey': {'asm': '0 7bb8f5802ae446be4e5f7dde387ca1624faee09a8643a8c16ff87df4235e2584',\n",
       "    'desc': 'addr(bc1q0wu0tqp2u3rtunjl0h0rsl9pvf86acy6sep63st0lp7lgg67ykzqeq89pn)#se4e68s3',\n",
       "    'hex': '00207bb8f5802ae446be4e5f7dde387ca1624faee09a8643a8c16ff87df4235e2584',\n",
       "    'address': 'bc1q0wu0tqp2u3rtunjl0h0rsl9pvf86acy6sep63st0lp7lgg67ykzqeq89pn',\n",
       "    'type': 'witness_v0_scripthash'}},\n",
       "  {'value': 0.36088603,\n",
       "   'n': 1,\n",
       "   'scriptPubKey': {'asm': '0 fcb2e5f3f67e7f75b1523ab81712c6101a865512906a5fcc9872deedd9d55c1e',\n",
       "    'desc': 'addr(bc1qljewtulk0elhtv2j82upwykxzqdgv4gjjp49lnycwt0wmkw4ts0qwy4aq7)#3r9apxy7',\n",
       "    'hex': '0020fcb2e5f3f67e7f75b1523ab81712c6101a865512906a5fcc9872deedd9d55c1e',\n",
       "    'address': 'bc1qljewtulk0elhtv2j82upwykxzqdgv4gjjp49lnycwt0wmkw4ts0qwy4aq7',\n",
       "    'type': 'witness_v0_scripthash'}}],\n",
       " 'fee': 0.000303,\n",
       " 'hex': '0100000000010133da925405259ece9d2861c788bbabcc0ff6a9bd72a606ff10d170a1df04b2db0100000000fdffffff02800c3200000000002200207bb8f5802ae446be4e5f7dde387ca1624faee09a8643a8c16ff87df4235e25841bab260200000000220020fcb2e5f3f67e7f75b1523ab81712c6101a865512906a5fcc9872deedd9d55c1e0400483045022100e46190f1eaeaef2f68bf46e7c10aa77ed21897d13a16dbe9a39491acab0dc54d022075616e3f775e3d77c4a764489b6bb7bb24e860f4d1e73c294ea7e015ec9f133d014730440220020b062bb1f5af34ad97046dcff79496ee213b5d1294985d7b4d1b0aa6c4b72f02203261e9dde769ae61b15eff9f8a0d97b5e7dc41bb8153a284da9cfb15dcfb35b301695221025adaa68725011aa2fe3dccf6cfd36ac7937a477d0d716684f6c7cc1b489ab1b62103eb4755698f928baae215891562e7f955c3ede634c5ce39d3839c3ea6213a04f621034d0e66b77cbc6b2a7f3f9bef3edf15459763aa05878ff3b634841b9f065fcd0e53ae00000000'}"
      ]
     },
     "execution_count": 10,
     "metadata": {},
     "output_type": "execute_result"
    }
   ],
   "source": [
    "data['tx'][1]"
   ]
  },
  {
   "cell_type": "code",
   "execution_count": 11,
   "metadata": {},
   "outputs": [],
   "source": [
    "for tx in data['tx']:\n",
    "    for vin in tx['vin']:\n",
    "        if vin.get('value',0) != 0:\n",
    "            print(tx)\n"
   ]
  },
  {
   "cell_type": "code",
   "execution_count": null,
   "metadata": {},
   "outputs": [],
   "source": []
  }
 ],
 "metadata": {
  "kernelspec": {
   "display_name": "blockchain",
   "language": "python",
   "name": "python3"
  },
  "language_info": {
   "codemirror_mode": {
    "name": "ipython",
    "version": 3
   },
   "file_extension": ".py",
   "mimetype": "text/x-python",
   "name": "python",
   "nbconvert_exporter": "python",
   "pygments_lexer": "ipython3",
   "version": "3.11.11"
  }
 },
 "nbformat": 4,
 "nbformat_minor": 2
}
