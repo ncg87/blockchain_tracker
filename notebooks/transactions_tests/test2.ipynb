{
 "cells": [
  {
   "cell_type": "code",
   "execution_count": 4,
   "metadata": {},
   "outputs": [],
   "source": [
    "import sys\n",
    "import os\n",
    "from pathlib import Path\n",
    "\n",
    "# Get absolute path to project root\n",
    "project_root = Path(os.getcwd()).resolve()\n",
    "if project_root.name != \"ncg87-blockchain_tracker\":\n",
    "    project_root = project_root.parent.parent  # Adjust if running from a subdirectory\n",
    "\n",
    "sys.path.append(str(project_root))\n",
    "\n",
    "# Add to Python path if not already there\n",
    "if str(project_root) not in sys.path:\n",
    "    sys.path.insert(0, str(project_root))\n",
    "\n",
    "from config import Settings\n",
    "from chains import XRPQuerier, XRPProcessor, XRPPipeline\n",
    "import logging\n",
    "from database import MongoDatabase, MongoInsertOperations, MongoQueryOperations\n",
    "\n",
    "logging.basicConfig(level=logging.INFO,\n",
    "                   format='%(asctime)s - %(levelname)s - %(message)s')\n",
    "\n",
    "from decoder import LogDecoder\n",
    "from config import Settings\n",
    "from web3 import Web3\n",
    "\n"
   ]
  },
  {
   "cell_type": "code",
   "execution_count": 5,
   "metadata": {},
   "outputs": [],
   "source": [
    "def decode_hex(value):\n",
    "    \"\"\"\n",
    "    Decode a hexadecimal string to an integer if it's an Ethereum-style integer (e.g., block numbers, gas values).\n",
    "    Does not decode long hashes or other non-integer hex values.\n",
    "    :param value: Hexadecimal string (e.g., '0x677df92f') or other types.\n",
    "    :return: Decoded integer or original value if not a valid short hex integer.\n",
    "    \"\"\"\n",
    "    if isinstance(value, str) and value.startswith(\"0x\"):\n",
    "        if value == '0x':\n",
    "            return None\n",
    "        \n",
    "        # Only decode if the hex string is short (e.g., block numbers, gas, timestamps)\n",
    "        return int(value, 16)\n",
    "    return value  # Return original value if not a short hex integer\n",
    "\n",
    "# Parallelization of the tasks\n",
    "def reconcile_logs_with_transactions(block):\n",
    "    \n",
    "    transactions = block[\"transactions\"]\n",
    "    w3 = Web3(Web3.HTTPProvider(Settings.ETHEREUM_ENDPOINT))\n",
    "    \n",
    "    # Fetch logs for the block\n",
    "    logs = w3.eth.get_logs({\n",
    "        \"fromBlock\": decode_hex(block['number']),\n",
    "        \"toBlock\": decode_hex(block['number'])\n",
    "    })\n",
    "\n",
    "    # Group logs by transaction hash\n",
    "    logs_by_transaction = {}\n",
    "    for log in logs:\n",
    "        tx_hash = log[\"transactionHash\"].to_0x_hex()\n",
    "        if tx_hash not in logs_by_transaction:\n",
    "            logs_by_transaction[tx_hash] = []\n",
    "        logs_by_transaction[tx_hash].append(dict(log))\n",
    "\n",
    "    # Analyze the results\n",
    "    tx_with_logs = len(logs_by_transaction)\n",
    "    tx_without_logs = len(transactions) - tx_with_logs\n",
    "\n",
    "    \n",
    "    \n",
    "    print(f\"Total transactions in block: {len(transactions)}\")\n",
    "    print(f\"Transactions with logs: {tx_with_logs}\")\n",
    "    print(f\"Transactions without logs: {tx_without_logs}\")\n",
    "\n",
    "    # Return grouped logs for further analysis\n",
    "    return logs_by_transaction\n",
    "\n"
   ]
  },
  {
   "cell_type": "code",
   "execution_count": 10,
   "metadata": {},
   "outputs": [
    {
     "name": "stderr",
     "output_type": "stream",
     "text": [
      "2025-01-10 00:42:23,173 - INFO - Connected to MongoDB database: blockchain\n",
      "2025-01-10 00:42:23,198 - INFO - Indexes created for collection: Solana\n",
      "2025-01-10 00:42:23,200 - INFO - Indexes created for collection: Bitcoin\n",
      "2025-01-10 00:42:23,201 - INFO - Indexes created for collection: Ethereum\n",
      "2025-01-10 00:42:23,203 - INFO - Indexes created for collection: BNB\n",
      "2025-01-10 00:42:23,205 - INFO - Indexes created for collection: XRP\n",
      "2025-01-10 00:42:23,207 - INFO - Retrieved block 21585277 from Ethereum collection in MongoDB.\n"
     ]
    },
    {
     "name": "stdout",
     "output_type": "stream",
     "text": [
      "Total transactions in block: 91\n",
      "Transactions with logs: 49\n",
      "Transactions without logs: 42\n"
     ]
    }
   ],
   "source": [
    "mongodb = MongoDatabase()\n",
    "mongodb_query_ops = MongoQueryOperations(mongodb)\n",
    "\n",
    "query = mongodb_query_ops.get_block_by_number(21585277, 'Ethereum')\n",
    "data = query['raw_block_data']\n",
    "logs_by_transaction = reconcile_logs_with_transactions(data)"
   ]
  },
  {
   "cell_type": "code",
   "execution_count": 11,
   "metadata": {},
   "outputs": [
    {
     "name": "stdout",
     "output_type": "stream",
     "text": [
      "Contract: 0xA0b86991c6218b36c1d19D4a2e9Eb0cE3606eB48, Event: ddf252ad1be2c89b69c2b068fc378daa952ba7f163c4a11628f55a4df523b3ef, Count: 2\n",
      "Contract: 0xdCD48419bD5Cd9d1b097695F2af4Ee125aADF84F, Event: 2a08a2bd2798f0aae9a843f0f4ad4de488c1b3d5f04049940cfed736ad69fb97, Count: 1\n",
      "Contract: 0xc3CA38091061e3E5358A52d74730F16C60cA9c26, Event: 36c96ccc320eab9b6da1de6cc1e8ebc52a51cb114710b9c7db204cdad3067ce1, Count: 2\n",
      "Contract: 0x9a15bB3a8FEc8d0d810691BAFE36f6e5d42360F7, Event: 4d8aead3491b7eba4b5c7a65fc17e493b9e63f9e433522fc5f6a85a168fc9d36, Count: 1\n",
      "Contract: 0x5c7BCd6E7De5423a257D81B442095A1a6ced35C5, Event: a123dc29aebf7d0c3322c8eeb5b999e859f39937950ed31056532713d0de396f, Count: 1\n",
      "Contract: 0xce16F69375520ab01377ce7B88f5BA8C48F8D666, Event: 5844b8bbe3fd2b0354e73f27bfde28d2e6d991f14139c382876ec4360391a47b, Count: 1\n",
      "Contract: 0xA0b86991c6218b36c1d19D4a2e9Eb0cE3606eB48, Event: 8c5be1e5ebec7d5bd14f71427d1e84f3dd0314c0f7b2291e5b200ac8c7c3b925, Count: 1\n",
      "Contract: 0x88e6A0c2dDD26FEEb64F039a2c41296FcB3f5640, Event: c42079f94a6350d7e6235f29174924f928cc2ac818eb64fed8004e115fbcca67, Count: 1\n",
      "Contract: 0xce16F69375520ab01377ce7B88f5BA8C48F8D666, Event: 7c3aa10c5d96985be6de7d2e6fa79bdef95a95a9cb272f4113b3fe1ca89fedae, Count: 1\n",
      "Contract: 0xF3dE3C0d654FDa23daD170f0f320a92172509127, Event: 7724394874fdd8ad13292ec739b441f85c6559f10dc4141b8d4c0fa4cbf55bdb, Count: 2\n",
      "Contract: 0xF3dE3C0d654FDa23daD170f0f320a92172509127, Event: 1bb43f2da90e35f7b0cf38521ca95a49e68eb42fac49924930a5bd73cdf7576c, Count: 2\n",
      "Contract: 0xc005dc82818d67AF737725bD4bf75435d065D239, Event: 769f711d20c679153d382254f59892613b58a97cc876b249134ac25c80f9c814, Count: 1\n",
      "Contract: 0xc005dc82818d67AF737725bD4bf75435d065D239, Event: 788dbc1b7152732178210e7f4d9d010ef016f9eafbe66786bd7169f56e0c353a, Count: 1\n",
      "Contract: 0x9e6B1022bE9BBF5aFd152483DAD9b88911bC8611, Event: 65695c3748edae85a24cc2c60b299b31f463050bc259150d2e5802ec8d11720a, Count: 1\n",
      "Contract: 0xC59336D8edDa9722B4f1Ec104007191Ec16f7087, Event: d229aacb94204188fe8042965fa6b269c62dc5818b21238779ab64bdd17efeec, Count: 1\n",
      "Contract: 0x14436CbcA18808b735ad324d2FB3c11336718FFc, Event: d8138f8a3f377c5259ca548e70e4c2de94f129f5a11036a15b69513cba2b426a, Count: 1\n",
      "Contract: 0xD7E4b67E735733aC98a88F13d087D8aac670E644, Event: e3407208b14fa025330ca187030f118a1c0cdb604aba93ba45c862e6095aee27, Count: 1\n",
      "Contract: 0x88ad09518695c6c3712AC10a214bE5109a655671, Event: 9afd47907e25028cdaca89d193518c302bbb128617d5a992c5abd45815526593, Count: 1\n",
      "Contract: 0x4C36d2919e407f0Cc2Ee3c993ccF8ac26d9CE64e, Event: 27333edb8bdcd40a0ae944fb121b5e2d62ea782683946654a0f5e607a908d578, Count: 1\n",
      "Contract: 0x87428a53e14d24Ab19c6Ca4939B4df93B8996cA9, Event: c42079f94a6350d7e6235f29174924f928cc2ac818eb64fed8004e115fbcca67, Count: 1\n",
      "Contract: 0x8ACe1D7dFa18EDaafE04Cada19024D4ABb3008a3, Event: bd16745e57747959fc6b7a733f6d955ea95759b2987c3db35eadd160f3e8c1e6, Count: 1\n",
      "Contract: 0x2e1a7EF12d0aDeEbF6009F0Aa964cf686364B01f, Event: 9c91da9f102663943dfb86d851c76de06c2fe178d18a58e45dd7a9cbeea0bb35, Count: 1\n",
      "Contract: 0x5a54fe5234E811466D5366846283323c954310B2, Event: 293e3a2153dc5c8d3667cbd6ede71a71674b2381e5dc4b40c91ad0e813447c0f, Count: 1\n"
     ]
    }
   ],
   "source": [
    "log_decoder = LogDecoder(Settings.ETHERSCAN_API_KEY)\n",
    "\n",
    "results = log_decoder.process_transaction_logs(logs_by_transaction)"
   ]
  },
  {
   "cell_type": "code",
   "execution_count": null,
   "metadata": {},
   "outputs": [],
   "source": []
  }
 ],
 "metadata": {
  "kernelspec": {
   "display_name": "blockchain",
   "language": "python",
   "name": "python3"
  },
  "language_info": {
   "codemirror_mode": {
    "name": "ipython",
    "version": 3
   },
   "file_extension": ".py",
   "mimetype": "text/x-python",
   "name": "python",
   "nbconvert_exporter": "python",
   "pygments_lexer": "ipython3",
   "version": "3.11.11"
  }
 },
 "nbformat": 4,
 "nbformat_minor": 2
}
