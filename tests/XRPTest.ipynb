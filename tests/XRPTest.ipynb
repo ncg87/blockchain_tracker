{
 "cells": [
  {
   "cell_type": "code",
   "execution_count": 1,
   "metadata": {},
   "outputs": [],
   "source": [
    "import sys\n",
    "import os\n",
    "from pathlib import Path\n",
    "\n",
    "# Get absolute path to project root\n",
    "project_root = Path(os.getcwd()).resolve()\n",
    "if project_root.name != \"ncg87-blockchain_tracker\":\n",
    "    project_root = project_root.parent  # Adjust if running from a subdirectory\n",
    "\n",
    "sys.path.append(str(project_root))\n",
    "\n",
    "# Add to Python path if not already there\n",
    "if str(project_root) not in sys.path:\n",
    "    sys.path.insert(0, str(project_root))\n",
    "\n",
    "from config import Settings\n",
    "from chains import XRPQuerier, XRPProcessor, XRPPipeline\n",
    "from database import Database\n",
    "import logging\n",
    "logging.basicConfig(level=logging.INFO,\n",
    "                   format='%(asctime)s - %(levelname)s - %(message)s')\n"
   ]
  },
  {
   "cell_type": "code",
   "execution_count": 2,
   "metadata": {},
   "outputs": [
    {
     "name": "stderr",
     "output_type": "stream",
     "text": [
      "2025-01-08 17:32:05,429 - INFO - Initialized XRP querier\n",
      "2025-01-08 17:32:05,430 - INFO - Initializing WebSocketHandler for XRP\n",
      "2025-01-08 17:32:05,430 - INFO - Initializing XRPWebSocketHandler for XRP Ledger\n",
      "2025-01-08 17:32:05,431 - INFO - Applying schema from C:\\Users\\Nicko\\vscodeprojects\\blockchain_tracker\\database\\schema.sql\n",
      "2025-01-08 17:32:05,431 - INFO - Schema applied successfully.\n",
      "2025-01-08 17:32:05,433 - INFO - Initialized XRP processor\n",
      "2025-01-08 17:32:05,433 - INFO - Starting XRP pipeline...\n",
      "2025-01-08 17:32:05,433 - INFO - Initialized XRP querier\n",
      "2025-01-08 17:32:05,434 - INFO - Initializing WebSocketHandler for XRP\n",
      "2025-01-08 17:32:05,434 - INFO - Initializing XRPWebSocketHandler for XRP Ledger\n",
      "2025-01-08 17:32:05,435 - INFO - Initialized XRP processor\n",
      "2025-01-08 17:32:06,024 - INFO - HTTP Request: POST https://newest-serene-panorama.xrp-mainnet.quiknode.pro/d92f793cdfeb9f51d713cc124ad302308950f26d \"HTTP/1.1 200 OK\"\n",
      "2025-01-08 17:32:06,025 - INFO - Fetching ledger 93328967\n",
      "2025-01-08 17:32:06,456 - INFO - HTTP Request: POST https://newest-serene-panorama.xrp-mainnet.quiknode.pro/d92f793cdfeb9f51d713cc124ad302308950f26d \"HTTP/1.1 200 OK\"\n"
     ]
    }
   ],
   "source": [
    "querier = XRPQuerier()\n",
    "database = Database()\n",
    "processor = XRPProcessor(database, querier)\n",
    "pipeline = XRPPipeline(database)\n",
    "block = querier.get_block()\n",
    "\n"
   ]
  },
  {
   "cell_type": "code",
   "execution_count": 3,
   "metadata": {},
   "outputs": [
    {
     "name": "stderr",
     "output_type": "stream",
     "text": [
      "2025-01-08 17:32:06,559 - INFO - Starting XRP pipeline in real-time mode...\n",
      "2025-01-08 17:32:07,066 - INFO - Connected to WebSocket: XRP\n",
      "2025-01-08 17:32:07,069 - INFO - Subscribed to XRP updates.\n",
      "2025-01-08 17:32:09,033 - INFO - Received ledger: 93328968\n",
      "2025-01-08 17:32:09,035 - INFO - Processing block 93328968 on XRP\n",
      "2025-01-08 17:32:09,036 - INFO - Inserting block 93328968 into database\n",
      "2025-01-08 17:32:09,050 - INFO - Block 93328968 inserted successfully\n",
      "2025-01-08 17:32:12,631 - INFO - Received ledger: 93328969\n",
      "2025-01-08 17:32:12,632 - INFO - Processing block 93328969 on XRP\n",
      "2025-01-08 17:32:12,632 - INFO - Inserting block 93328969 into database\n",
      "2025-01-08 17:32:12,647 - INFO - Block 93328969 inserted successfully\n",
      "2025-01-08 17:32:16,555 - INFO - Received ledger: 93328970\n",
      "2025-01-08 17:32:16,556 - INFO - Processing block 93328970 on XRP\n",
      "2025-01-08 17:32:16,557 - INFO - Inserting block 93328970 into database\n",
      "2025-01-08 17:32:16,571 - INFO - Block 93328970 inserted successfully\n",
      "2025-01-08 17:32:20,450 - INFO - Received ledger: 93328971\n",
      "2025-01-08 17:32:20,451 - INFO - Processing block 93328971 on XRP\n",
      "2025-01-08 17:32:20,452 - INFO - Inserting block 93328971 into database\n",
      "2025-01-08 17:32:20,466 - INFO - Block 93328971 inserted successfully\n",
      "2025-01-08 17:32:20,490 - INFO - WebSocket connection stopped for XRP.\n",
      "2025-01-08 17:32:20,490 - INFO - Completed XRP pipeline in real-time mode.\n"
     ]
    }
   ],
   "source": [
    "await pipeline.run(duration=10)"
   ]
  },
  {
   "cell_type": "code",
   "execution_count": 6,
   "metadata": {},
   "outputs": [
    {
     "data": {
      "text/plain": [
       "dict_keys(['ledger_hash', 'ledger_index', 'validated', 'ledger'])"
      ]
     },
     "execution_count": 6,
     "metadata": {},
     "output_type": "execute_result"
    }
   ],
   "source": [
    "block.keys()\n"
   ]
  },
  {
   "cell_type": "code",
   "execution_count": 3,
   "metadata": {},
   "outputs": [],
   "source": [
    "processor.process_block(block)\n"
   ]
  },
  {
   "cell_type": "code",
   "execution_count": 20,
   "metadata": {},
   "outputs": [
    {
     "data": {
      "text/plain": [
       "dict_keys(['account_hash', 'close_flags', 'close_time', 'close_time_human', 'close_time_resolution', 'close_time_iso', 'ledger_hash', 'parent_close_time', 'parent_hash', 'total_coins', 'transaction_hash', 'ledger_index', 'closed', 'transactions'])"
      ]
     },
     "execution_count": 20,
     "metadata": {},
     "output_type": "execute_result"
    }
   ],
   "source": [
    "block['ledger'].keys()\n",
    "\n"
   ]
  },
  {
   "cell_type": "code",
   "execution_count": 26,
   "metadata": {},
   "outputs": [
    {
     "data": {
      "text/plain": [
       "'99986667677120441'"
      ]
     },
     "execution_count": 26,
     "metadata": {},
     "output_type": "execute_result"
    }
   ],
   "source": [
    "block['ledger']['total_coins']\n"
   ]
  },
  {
   "cell_type": "code",
   "execution_count": null,
   "metadata": {},
   "outputs": [],
   "source": []
  }
 ],
 "metadata": {
  "kernelspec": {
   "display_name": "blockchain",
   "language": "python",
   "name": "python3"
  },
  "language_info": {
   "codemirror_mode": {
    "name": "ipython",
    "version": 3
   },
   "file_extension": ".py",
   "mimetype": "text/x-python",
   "name": "python",
   "nbconvert_exporter": "python",
   "pygments_lexer": "ipython3",
   "version": "3.11.11"
  }
 },
 "nbformat": 4,
 "nbformat_minor": 2
}
