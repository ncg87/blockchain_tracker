{
 "cells": [
  {
   "cell_type": "code",
   "execution_count": 1,
   "metadata": {},
   "outputs": [],
   "source": [
    "import sys\n",
    "import os\n",
    "from pathlib import Path\n",
    "\n",
    "# Get absolute path to project root\n",
    "project_root = Path(os.getcwd()).resolve()\n",
    "if project_root.name != \"ncg87-blockchain_tracker\":\n",
    "    project_root = project_root.parent  # Adjust if running from a subdirectory\n",
    "\n",
    "sys.path.append(str(project_root))\n",
    "\n",
    "# Add to Python path if not already there\n",
    "if str(project_root) not in sys.path:\n",
    "    sys.path.insert(0, str(project_root))\n",
    "\n",
    "from config import Settings\n",
    "from chains import EthereumWebSocketHandler, BNBWebSocketHandler, SolanaWebSocketHandler, XRPWebSocketHandler\n",
    "import nest_asyncio\n",
    "import logging\n",
    "\n",
    "logging.basicConfig(level=logging.INFO,\n",
    "                   format='%(asctime)s - %(levelname)s - %(message)s')\n",
    "\n",
    "nest_asyncio.apply()\n"
   ]
  },
  {
   "cell_type": "code",
   "execution_count": 2,
   "metadata": {},
   "outputs": [
    {
     "name": "stderr",
     "output_type": "stream",
     "text": [
      "2025-01-08 02:23:56,601 - INFO - Initializing WebSocketHandler for Solana\n",
      "2025-01-08 02:23:56,603 - INFO - Initializing SolanaWebSocketHandlerOptimized for Solana\n"
     ]
    }
   ],
   "source": [
    "ws = SolanaWebSocketHandler(Settings.SOLANA_WEBSOCKET_ENDPOINT)\n"
   ]
  },
  {
   "cell_type": "code",
   "execution_count": 3,
   "metadata": {},
   "outputs": [
    {
     "name": "stderr",
     "output_type": "stream",
     "text": [
      "2025-01-08 02:23:58,107 - INFO - Connected to WebSocket: Solana\n",
      "2025-01-08 02:23:58,108 - INFO - Subscribed to Solana updates.\n",
      "2025-01-08 02:24:08,169 - INFO - WebSocket connection stopped for Solana.\n"
     ]
    }
   ],
   "source": [
    "async for block in ws.run(duration=10):\n",
    "    print(block)\n",
    "\n",
    "\n"
   ]
  },
  {
   "cell_type": "code",
   "execution_count": 13,
   "metadata": {},
   "outputs": [
    {
     "data": {
      "text/plain": [
       "'0xd88301040e846765746888676f312e32332e30856c696e757800000060adae27f8b5831fffffb8608c2020b2e87a37589f7ecf401a6808673b6acbd5ce19edafe70f9b13221be4776d29881268ae0c3a45b31fa472c8be780046017a203aa48db1b287a518f73bbecbb57a0ff984c271a3d37b53fabec724a843c26efc29939795c875f86d2c7be5f84c8402b77460a07b24570c9dbc5ffa06a8fa354b8c89fc4415a18be39a4a1d853ba64eda4b4b4a8402b77461a0822a82d8d42380029f48a899b3377ee2a2b4a2c47d6a945f9eabefaf856a402580cf9d94d0fc6c28388d73561c16d138dd372cca830ba04792fafada5f5fe3fe421db4eaf3aff24d46890479b8290b63737f97b8aed2f6f16a070018376d0c03d301'"
      ]
     },
     "execution_count": 13,
     "metadata": {},
     "output_type": "execute_result"
    }
   ],
   "source": [
    "from hexbytes import HexBytes\n",
    "block['extraData']\n"
   ]
  },
  {
   "cell_type": "code",
   "execution_count": 18,
   "metadata": {},
   "outputs": [],
   "source": [
    "decoded_string = int(block['gasUsed'], 16)\n"
   ]
  },
  {
   "cell_type": "code",
   "execution_count": 19,
   "metadata": {},
   "outputs": [
    {
     "data": {
      "text/plain": [
       "12366957"
      ]
     },
     "execution_count": 19,
     "metadata": {},
     "output_type": "execute_result"
    }
   ],
   "source": [
    "decoded_string\n"
   ]
  },
  {
   "cell_type": "code",
   "execution_count": 5,
   "metadata": {},
   "outputs": [
    {
     "data": {
      "text/plain": [
       "{'subscription': '0x18189a2a0e7f508b000000000002c73b',\n",
       " 'result': {'parentHash': '0xdad4a9145665dfe487aeb47597ee497cb3b0225ace275748d9c8e4c9985092b0',\n",
       "  'sha3Uncles': '0x1dcc4de8dec75d7aab85b567b6ccd41ad312451b948a7413f0a142fd40d49347',\n",
       "  'miner': '0x95222290dd7278aa3ddd389cc1e1d165cc4bafe5',\n",
       "  'stateRoot': '0x658ea7532df5126177a00a12240609569f2049fbf7682e0728cde0bdea1a1053',\n",
       "  'transactionsRoot': '0x313d88dd92b265fac8ee324f9f04375bc647887101b4134d2eb69dadec88a16c',\n",
       "  'receiptsRoot': '0xda533dbdf60a0742382aa2f6ec524e7fe4c3b3281ec48937ab2151bb94aab345',\n",
       "  'logsBloom': '0x3fedf8ec1d4dc0062690dae7cc7afdb15553b277ac739670068d3167b6368d404f4744488ae7bb1356120b0ebc172790b38ac82d8e5f360f45f97c46efbe615473589459261dcbaced89774fb31dfcb83e2940b9d2671e31714e83da8268c260b86b560732f0b372ab73e8477e40aa930ceb82e1075d46579698449520b913c02e29e3d847c0d1db8cc0bbec24f2069e44818d235b52a06dca2ddcce69b23ea25e41176880733d205bc55be0b538142e644d399cf4b0ab58c1e0b4ce229a4a3065d72c2f9418abbe65b1f0ba084efff4792c2826ce7e1951a84b6db6ef2422c2d6f33ccdf9b2490408e6173aa50db7a915495aa32a84e3c4032a0ce655c168df',\n",
       "  'difficulty': '0x0',\n",
       "  'number': '0x1493d84',\n",
       "  'gasLimit': '0x1ca35ef',\n",
       "  'gasUsed': '0xe00fa3',\n",
       "  'timestamp': '0x677df1f7',\n",
       "  'extraData': '0x6265617665726275696c642e6f7267',\n",
       "  'mixHash': '0x8bdae46097ecc65d94d53f447f51dfb7e85a5dfd5a31c0702298a73fd452af86',\n",
       "  'nonce': '0x0000000000000000',\n",
       "  'baseFeePerGas': '0x13ff9d9ad',\n",
       "  'withdrawalsRoot': '0xa824228548f0233a75511c274e6a0f9e830dd2fea68bec1e4c50b511a4af64d6',\n",
       "  'blobGasUsed': '0x0',\n",
       "  'excessBlobGas': '0x4800000',\n",
       "  'parentBeaconBlockRoot': '0x53c3814051bba7e4764fc3529c11d60e437b9b8c784077537c92709ca9003f5e',\n",
       "  'requestsRoot': None,\n",
       "  'hash': '0x6a49ca9768b58a1fdac46f477d808454ce085caa8d64d6ec45d4e817accb33ec'}}"
      ]
     },
     "execution_count": 5,
     "metadata": {},
     "output_type": "execute_result"
    }
   ],
   "source": [
    "block['params']"
   ]
  },
  {
   "cell_type": "code",
   "execution_count": null,
   "metadata": {},
   "outputs": [],
   "source": []
  }
 ],
 "metadata": {
  "kernelspec": {
   "display_name": "blockchain",
   "language": "python",
   "name": "python3"
  },
  "language_info": {
   "codemirror_mode": {
    "name": "ipython",
    "version": 3
   },
   "file_extension": ".py",
   "mimetype": "text/x-python",
   "name": "python",
   "nbconvert_exporter": "python",
   "pygments_lexer": "ipython3",
   "version": "3.11.11"
  }
 },
 "nbformat": 4,
 "nbformat_minor": 2
}
