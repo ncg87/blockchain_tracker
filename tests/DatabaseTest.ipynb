{
 "cells": [
  {
   "cell_type": "code",
   "execution_count": 3,
   "metadata": {},
   "outputs": [
    {
     "data": {
      "text/plain": [
       "[(15,\n",
       "  'Solana',\n",
       "  290718824,\n",
       "  '5MGeNP9NgB7iwXkDVtxfEX7kZrZYFxrn7o6vfjZNyK8',\n",
       "  'Gc5bffRgC3vLhrBEivJEj7FCcN2CxKEv7BBR8FBAnNCq',\n",
       "  '2025-01-07 06:36:35',\n",
       "  '{\"parent_slot\": 312401854}'),\n",
       " (19,\n",
       "  'XRP',\n",
       "  93292581,\n",
       "  '848B3558D06BB832DE5BE8EC101B987993F615DD2062D821FAAEC56633F9A2DF',\n",
       "  '94875435EAE724D9C0A1C41A829D8B224B6EF5D6512FF4A84047ED96C19B2C79',\n",
       "  '1995-01-08 07:10:50',\n",
       "  '{\"account_hash\": \"DBDBA823DA6944D5AFAD2CED970550FBDF1F47CEEAC6D434452F0256A3698051\", \"total_coins\": \"99986667652700717\"}'),\n",
       " (17,\n",
       "  'BNB',\n",
       "  45550492,\n",
       "  '1ad5bf7469ca278848b848fa55ec3b6c3404f07f366d60c13d3a233fabd990dc',\n",
       "  'fa37e1bcd09071af3e5ad4bee8db284c102f6504e0ebfffcec04133612513ccf',\n",
       "  '2025-01-07 06:50:59',\n",
       "  '{\"miner\": \"0xCa503a7eD99eca485da2E875aedf7758472c378C\", \"gas_limit\": 140000000, \"gas_used\": 23743857, \"base_fee\": 0, \"block_size\": 58401, \"proof_of_authority_data\": \"d88301040f846765746888676f312e32322e32856c696e757800000060adae27f8b5831fffffb860aa1a46d849b115aca1b71953c9b498ccdc61ae0b47c7a1a5cdf56a15f95fa6ef1a3b21f684e117c0f0ac714dc889a24011eecdb27b8785fdd22f5e01fab1f45380a45e5583a0299e74d075c8da010534a15f505a0b0aa0485cbb6672fedf8702f84c8402b70b9aa07a7b6cda1756377097a5f7fd9003d8e27167e044baaf67b0da171332213c11908402b70b9ba0fa37e1bcd09071af3e5ad4bee8db284c102f6504e0ebfffcec04133612513ccf8035b5fd789d17a883bcc61e8bada4e9a0ef3dd781ee54d801454451903d36d33402c576855b565d32a88d4f38fe506e4455bd30c5ccf9b7b052205027b4fd9ac500\", \"blob_gas_used\": 0, \"excess_blob_gas\": 0}'),\n",
       " (10,\n",
       "  'Ethereum',\n",
       "  21570813,\n",
       "  'e5d635d3c3e256f7ba77095d7d717180185148901c23756e904b4c8ad7fe308c',\n",
       "  '76131c0a722e356f37fc442b8ff539570289b81e32d9b3f909fca0d991c42d42',\n",
       "  '2025-01-07 06:30:23',\n",
       "  '{\"miner\": \"0x0b57e11DFe43e179Cb2e8fB19b0DFecc87843168\", \"gas_limit\": 30000000, \"gas_used\": 7975366}'),\n",
       " (1,\n",
       "  'eth',\n",
       "  1000000,\n",
       "  '0x1234567890',\n",
       "  '0x0987654321',\n",
       "  '2024-01-01 12:00:00',\n",
       "  '{\"some\": \"data\"}'),\n",
       " (21,\n",
       "  'Bitcoin',\n",
       "  878189,\n",
       "  '000000000000000000011159af1c81013ae6c6d7d4accf08682f2c9db1db3c23',\n",
       "  '000000000000000000002641d892b1f5b4b4446a1db13bbe2a89faec36ba9768',\n",
       "  '2025-01-07 07:02:22',\n",
       "  '{\"version\": 618651648, \"merkle_root\": \"833cf7cc7f4dd1a5141bc11c831dd95516e606df309216c96e8f3b7635e373cd\", \"chainwork\": \"0000000000000000000000000000000000000000a5b498e8956204104a437158\", \"bits\": \"1702905c\", \"weight\": 3993224, \"size\": 1449299, \"num_tx\": 1649}'),\n",
       " (6,\n",
       "  'Bitcoin',\n",
       "  878183,\n",
       "  '000000000000000000001f0290610d2125ff6351a6c6558d5dba90cca6a4e456',\n",
       "  '000000000000000000009abb0666889a6ae479f1cb8b94853e83a1ada9dc8e7c',\n",
       "  '2025-01-07 06:28:20',\n",
       "  '{\"version\": 783392768, \"merkle_root\": \"e798d6f6731023ee922445069060e0bf31e7f17d2757435f932403b3f174e8b6\", \"chainwork\": \"0000000000000000000000000000000000000000a5b241d2749571ec97133500\", \"bits\": \"1702905c\", \"weight\": 3993805, \"size\": 1571839}')]"
      ]
     },
     "execution_count": 3,
     "metadata": {},
     "output_type": "execute_result"
    }
   ],
   "source": [
    "import sys\n",
    "import os\n",
    "from pathlib import Path\n",
    "\n",
    "# Get absolute path to project root\n",
    "project_root = Path(os.getcwd()).resolve()\n",
    "if project_root.name != \"ncg87-blockchain_tracker\":\n",
    "    project_root = project_root.parent  # Adjust if running from a subdirectory\n",
    "\n",
    "sys.path.append(str(project_root))\n",
    "\n",
    "# Add to Python path if not already there\n",
    "if str(project_root) not in sys.path:\n",
    "    sys.path.insert(0, str(project_root))\n",
    "    \n",
    "from database import Database, InsertOperations, QueryOperations\n",
    "\n",
    "db = Database()\n",
    "insert_ops = InsertOperations(db)\n",
    "query_ops = QueryOperations(db)\n",
    "\n",
    "insert_ops.insert_block({'network': 'eth', 'block_number': 1000000, 'block_hash': '0x1234567890', 'parent_hash': '0x0987654321', 'timestamp': '2024-01-01 12:00:00', 'block_data': '{\"some\": \"data\"}'})\n",
    "\n",
    "query_ops.query_blocks()"
   ]
  },
  {
   "cell_type": "code",
   "execution_count": null,
   "metadata": {},
   "outputs": [],
   "source": []
  }
 ],
 "metadata": {
  "kernelspec": {
   "display_name": "blockchain",
   "language": "python",
   "name": "python3"
  },
  "language_info": {
   "codemirror_mode": {
    "name": "ipython",
    "version": 3
   },
   "file_extension": ".py",
   "mimetype": "text/x-python",
   "name": "python",
   "nbconvert_exporter": "python",
   "pygments_lexer": "ipython3",
   "version": "3.11.11"
  }
 },
 "nbformat": 4,
 "nbformat_minor": 2
}
